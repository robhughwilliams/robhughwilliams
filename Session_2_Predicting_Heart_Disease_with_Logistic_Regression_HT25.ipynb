{
  "nbformat": 4,
  "nbformat_minor": 0,
  "metadata": {
    "colab": {
      "provenance": [],
      "toc_visible": true
    },
    "kernelspec": {
      "name": "python3",
      "display_name": "Python 3"
    },
    "language_info": {
      "name": "python"
    }
  },
  "cells": [
    {
      "cell_type": "markdown",
      "metadata": {
        "id": "7Com-NJunaX6"
      },
      "source": [
        "# Predicting Heart Disease with Logistic Regression\n"
      ]
    },
    {
      "cell_type": "markdown",
      "source": [
        "## The Framingham Heart Study\n",
        "\n",
        "The Framingham Heart Study is a long term prospective study of the etiology of cardiovascular disease among a population of free living subjects in the community of Framingham, Massachusetts. It was the first prospective study of cardiovascular disease which identified the concept of risk factors and their joint effects.\n",
        "\n",
        "In this session, we will train and evaluate a multivariate logistic regression model to predict an individual's ten year risk of developing coronary heart disease (CHD).\n"
      ],
      "metadata": {
        "id": "xAD47fvMjfWH"
      }
    },
    {
      "cell_type": "markdown",
      "source": [
        "## The goals of this analysis\n",
        "\n",
        "*   Can we predict the 10-year risk of CHD for a health individual?\n",
        "*   How can we evaluate and interpret the resulting model?"
      ],
      "metadata": {
        "id": "gS9qndaxt30F"
      }
    },
    {
      "cell_type": "markdown",
      "source": [
        "## Data Description\n",
        "\n",
        "We will use an anonymized sample of 4,240 participants from the original FHS cohort. Each row will correspond to a healthy individual who was free of heart disease at the time of the observation. Our outcome of interest is whether the individual was diagnosed with CHD in the course of the next 10 years.\n",
        "\n",
        "This dataset contains the following columns:\n",
        "\n",
        "*  **male**: Gender of the participant (1 = male).\n",
        "\n",
        "*  **age**: Age at exam (years).\n",
        "\n",
        "*  **education**: Attained Education. Note that 1 = 0-11 years; 2 = High School Diploma; GED 3 = Some College; Vocational School 4 = College (BS, BA) degree or more.\n",
        "\n",
        "*  **currentSmoker**: Current cigarette smoking at exam.\n",
        "\n",
        "*  **cigsPerDay**: Number of cigarettes smoked each day.\n",
        "\n",
        "*  **BPMeds**: Use of Anti-hypertensive medication at exam.\n",
        "\n",
        "*  **prevalentStroke**: History of a previous stroke event.\n",
        "\n",
        "*  **prevalentHyp**: History of hypertension.\n",
        "\n",
        "*  **diabetes**: History of diabetes.\n",
        "\n",
        "*  **totChol**: Serum Total Cholesterol (mg/dL).\n",
        "\n",
        "*  **sysBP**: Systolic Blood Pressure (mean of last two of three measurements) (mmHg).\n",
        "\n",
        "*  **diaBP**: Diastolic Blood Pressure (mean of last two of three measurements) (mmHg).\n",
        "\n",
        "*  **BMI**: Body Mass Index, weight in kilograms/height meters squared.\n",
        "\n",
        "*  **heartRate**: Heart rate (Ventricular rate) in beats/min.\n",
        "\n",
        "*  **glucose**: Casual serum glucose (mg/dL).\n",
        "\n",
        "*  **TenYearCHD**: The outcome of interest. Indicates whether the participant experienced Angina Pectoris, Myocardial infarction (Hospitalized and silent or unrecognized), Coronary Insufficiency (Unstable Angina), or Fatal Coronary Heart Disease in the 10 years following the clinical exam.\n",
        "\n",
        "*The dataset for this exercise was provided by the Biologic Specimen and Data Repository Information Coordinating Center of the National Institute of Health.*"
      ],
      "metadata": {
        "id": "i8T5YcGfu2CT"
      }
    },
    {
      "cell_type": "markdown",
      "metadata": {
        "id": "ZZyTl1h-o9Wd"
      },
      "source": [
        "# Setup"
      ]
    },
    {
      "cell_type": "markdown",
      "metadata": {
        "id": "41H5rDelpAQQ"
      },
      "source": [
        "### Import libraries"
      ]
    },
    {
      "cell_type": "markdown",
      "metadata": {
        "id": "0rrH_Uh6qC3p"
      },
      "source": [
        "Import libraries for managing data structures and plotting figures"
      ]
    },
    {
      "cell_type": "code",
      "metadata": {
        "id": "usJlqbBWmwk4"
      },
      "source": [
        "# Data manipulation libraries\n",
        "import pandas as pd\n",
        "import numpy as np\n",
        "\n",
        "# Plotting libraries\n",
        "import matplotlib.pyplot as plt\n",
        "import seaborn as sns\n",
        "sns.set()\n",
        "\n",
        "# Load utils for machine learning\n",
        "from sklearn.model_selection import train_test_split\n",
        "\n",
        "# Logistic Regression library\n",
        "import statsmodels.api as sm"
      ],
      "execution_count": null,
      "outputs": []
    },
    {
      "cell_type": "markdown",
      "metadata": {
        "id": "PCzj1zEVpHN3"
      },
      "source": [
        "### Import the dataset\n",
        "\n",
        "We will set the first column as an index that will correspond to the participant ID."
      ]
    },
    {
      "cell_type": "code",
      "metadata": {
        "id": "c_Z_wWQyn-IZ"
      },
      "source": [
        "data = pd.read_csv(\"https://docs.google.com/spreadsheets/d/e/2PACX-1vRPjOBvVDPfUciVMCw_QE_vI3iG-cGSjkTPpm1Orpxi_X_tpc1x8vDdTgdM8BdogYvwYy6tZgA68_D9/pub?gid=1301256448&single=true&output=csv\",index_col=0)"
      ],
      "execution_count": null,
      "outputs": []
    },
    {
      "cell_type": "markdown",
      "metadata": {
        "id": "wJ9nwVnpqeKG"
      },
      "source": [
        "Let's print the first and last 8 rows.\n",
        "Remeber from last time that the top of the data set can be accessed by the *head* and the bottom with the *tail*."
      ]
    },
    {
      "cell_type": "code",
      "metadata": {
        "id": "JOfxhCMoqr3J",
        "colab": {
          "base_uri": "https://localhost:8080/",
          "height": 160
        },
        "outputId": "c20e9a5a-21c7-4cd2-df84-042a5d829ff0"
      },
      "source": [
        "data.head(3)"
      ],
      "execution_count": null,
      "outputs": [
        {
          "output_type": "execute_result",
          "data": {
            "text/plain": [
              "   male  age  education  currentSmoker  cigsPerDay  BPMeds  prevalentStroke  \\\n",
              "1     1   39          4              0           0       0                0   \n",
              "2     0   46          2              0           0       0                0   \n",
              "3     1   48          1              1          20       0                0   \n",
              "\n",
              "   prevalentHyp  diabetes  totChol  sysBP  diaBP    BMI  heartRate  glucose  \\\n",
              "1             0         0      195  106.0   70.0  26.97         80       77   \n",
              "2             0         0      250  121.0   81.0  28.73         95       76   \n",
              "3             0         0      245  127.5   80.0  25.34         75       70   \n",
              "\n",
              "   TenYearCHD  \n",
              "1           0  \n",
              "2           0  \n",
              "3           0  "
            ],
            "text/html": [
              "\n",
              "  <div id=\"df-a6516681-cc56-4d49-8c49-24a3f9a38517\" class=\"colab-df-container\">\n",
              "    <div>\n",
              "<style scoped>\n",
              "    .dataframe tbody tr th:only-of-type {\n",
              "        vertical-align: middle;\n",
              "    }\n",
              "\n",
              "    .dataframe tbody tr th {\n",
              "        vertical-align: top;\n",
              "    }\n",
              "\n",
              "    .dataframe thead th {\n",
              "        text-align: right;\n",
              "    }\n",
              "</style>\n",
              "<table border=\"1\" class=\"dataframe\">\n",
              "  <thead>\n",
              "    <tr style=\"text-align: right;\">\n",
              "      <th></th>\n",
              "      <th>male</th>\n",
              "      <th>age</th>\n",
              "      <th>education</th>\n",
              "      <th>currentSmoker</th>\n",
              "      <th>cigsPerDay</th>\n",
              "      <th>BPMeds</th>\n",
              "      <th>prevalentStroke</th>\n",
              "      <th>prevalentHyp</th>\n",
              "      <th>diabetes</th>\n",
              "      <th>totChol</th>\n",
              "      <th>sysBP</th>\n",
              "      <th>diaBP</th>\n",
              "      <th>BMI</th>\n",
              "      <th>heartRate</th>\n",
              "      <th>glucose</th>\n",
              "      <th>TenYearCHD</th>\n",
              "    </tr>\n",
              "  </thead>\n",
              "  <tbody>\n",
              "    <tr>\n",
              "      <th>1</th>\n",
              "      <td>1</td>\n",
              "      <td>39</td>\n",
              "      <td>4</td>\n",
              "      <td>0</td>\n",
              "      <td>0</td>\n",
              "      <td>0</td>\n",
              "      <td>0</td>\n",
              "      <td>0</td>\n",
              "      <td>0</td>\n",
              "      <td>195</td>\n",
              "      <td>106.0</td>\n",
              "      <td>70.0</td>\n",
              "      <td>26.97</td>\n",
              "      <td>80</td>\n",
              "      <td>77</td>\n",
              "      <td>0</td>\n",
              "    </tr>\n",
              "    <tr>\n",
              "      <th>2</th>\n",
              "      <td>0</td>\n",
              "      <td>46</td>\n",
              "      <td>2</td>\n",
              "      <td>0</td>\n",
              "      <td>0</td>\n",
              "      <td>0</td>\n",
              "      <td>0</td>\n",
              "      <td>0</td>\n",
              "      <td>0</td>\n",
              "      <td>250</td>\n",
              "      <td>121.0</td>\n",
              "      <td>81.0</td>\n",
              "      <td>28.73</td>\n",
              "      <td>95</td>\n",
              "      <td>76</td>\n",
              "      <td>0</td>\n",
              "    </tr>\n",
              "    <tr>\n",
              "      <th>3</th>\n",
              "      <td>1</td>\n",
              "      <td>48</td>\n",
              "      <td>1</td>\n",
              "      <td>1</td>\n",
              "      <td>20</td>\n",
              "      <td>0</td>\n",
              "      <td>0</td>\n",
              "      <td>0</td>\n",
              "      <td>0</td>\n",
              "      <td>245</td>\n",
              "      <td>127.5</td>\n",
              "      <td>80.0</td>\n",
              "      <td>25.34</td>\n",
              "      <td>75</td>\n",
              "      <td>70</td>\n",
              "      <td>0</td>\n",
              "    </tr>\n",
              "  </tbody>\n",
              "</table>\n",
              "</div>\n",
              "    <div class=\"colab-df-buttons\">\n",
              "\n",
              "  <div class=\"colab-df-container\">\n",
              "    <button class=\"colab-df-convert\" onclick=\"convertToInteractive('df-a6516681-cc56-4d49-8c49-24a3f9a38517')\"\n",
              "            title=\"Convert this dataframe to an interactive table.\"\n",
              "            style=\"display:none;\">\n",
              "\n",
              "  <svg xmlns=\"http://www.w3.org/2000/svg\" height=\"24px\" viewBox=\"0 -960 960 960\">\n",
              "    <path d=\"M120-120v-720h720v720H120Zm60-500h600v-160H180v160Zm220 220h160v-160H400v160Zm0 220h160v-160H400v160ZM180-400h160v-160H180v160Zm440 0h160v-160H620v160ZM180-180h160v-160H180v160Zm440 0h160v-160H620v160Z\"/>\n",
              "  </svg>\n",
              "    </button>\n",
              "\n",
              "  <style>\n",
              "    .colab-df-container {\n",
              "      display:flex;\n",
              "      gap: 12px;\n",
              "    }\n",
              "\n",
              "    .colab-df-convert {\n",
              "      background-color: #E8F0FE;\n",
              "      border: none;\n",
              "      border-radius: 50%;\n",
              "      cursor: pointer;\n",
              "      display: none;\n",
              "      fill: #1967D2;\n",
              "      height: 32px;\n",
              "      padding: 0 0 0 0;\n",
              "      width: 32px;\n",
              "    }\n",
              "\n",
              "    .colab-df-convert:hover {\n",
              "      background-color: #E2EBFA;\n",
              "      box-shadow: 0px 1px 2px rgba(60, 64, 67, 0.3), 0px 1px 3px 1px rgba(60, 64, 67, 0.15);\n",
              "      fill: #174EA6;\n",
              "    }\n",
              "\n",
              "    .colab-df-buttons div {\n",
              "      margin-bottom: 4px;\n",
              "    }\n",
              "\n",
              "    [theme=dark] .colab-df-convert {\n",
              "      background-color: #3B4455;\n",
              "      fill: #D2E3FC;\n",
              "    }\n",
              "\n",
              "    [theme=dark] .colab-df-convert:hover {\n",
              "      background-color: #434B5C;\n",
              "      box-shadow: 0px 1px 3px 1px rgba(0, 0, 0, 0.15);\n",
              "      filter: drop-shadow(0px 1px 2px rgba(0, 0, 0, 0.3));\n",
              "      fill: #FFFFFF;\n",
              "    }\n",
              "  </style>\n",
              "\n",
              "    <script>\n",
              "      const buttonEl =\n",
              "        document.querySelector('#df-a6516681-cc56-4d49-8c49-24a3f9a38517 button.colab-df-convert');\n",
              "      buttonEl.style.display =\n",
              "        google.colab.kernel.accessAllowed ? 'block' : 'none';\n",
              "\n",
              "      async function convertToInteractive(key) {\n",
              "        const element = document.querySelector('#df-a6516681-cc56-4d49-8c49-24a3f9a38517');\n",
              "        const dataTable =\n",
              "          await google.colab.kernel.invokeFunction('convertToInteractive',\n",
              "                                                    [key], {});\n",
              "        if (!dataTable) return;\n",
              "\n",
              "        const docLinkHtml = 'Like what you see? Visit the ' +\n",
              "          '<a target=\"_blank\" href=https://colab.research.google.com/notebooks/data_table.ipynb>data table notebook</a>'\n",
              "          + ' to learn more about interactive tables.';\n",
              "        element.innerHTML = '';\n",
              "        dataTable['output_type'] = 'display_data';\n",
              "        await google.colab.output.renderOutput(dataTable, element);\n",
              "        const docLink = document.createElement('div');\n",
              "        docLink.innerHTML = docLinkHtml;\n",
              "        element.appendChild(docLink);\n",
              "      }\n",
              "    </script>\n",
              "  </div>\n",
              "\n",
              "\n",
              "<div id=\"df-bc93daec-e94e-4f72-82f9-ea0b276e1e2f\">\n",
              "  <button class=\"colab-df-quickchart\" onclick=\"quickchart('df-bc93daec-e94e-4f72-82f9-ea0b276e1e2f')\"\n",
              "            title=\"Suggest charts\"\n",
              "            style=\"display:none;\">\n",
              "\n",
              "<svg xmlns=\"http://www.w3.org/2000/svg\" height=\"24px\"viewBox=\"0 0 24 24\"\n",
              "     width=\"24px\">\n",
              "    <g>\n",
              "        <path d=\"M19 3H5c-1.1 0-2 .9-2 2v14c0 1.1.9 2 2 2h14c1.1 0 2-.9 2-2V5c0-1.1-.9-2-2-2zM9 17H7v-7h2v7zm4 0h-2V7h2v10zm4 0h-2v-4h2v4z\"/>\n",
              "    </g>\n",
              "</svg>\n",
              "  </button>\n",
              "\n",
              "<style>\n",
              "  .colab-df-quickchart {\n",
              "      --bg-color: #E8F0FE;\n",
              "      --fill-color: #1967D2;\n",
              "      --hover-bg-color: #E2EBFA;\n",
              "      --hover-fill-color: #174EA6;\n",
              "      --disabled-fill-color: #AAA;\n",
              "      --disabled-bg-color: #DDD;\n",
              "  }\n",
              "\n",
              "  [theme=dark] .colab-df-quickchart {\n",
              "      --bg-color: #3B4455;\n",
              "      --fill-color: #D2E3FC;\n",
              "      --hover-bg-color: #434B5C;\n",
              "      --hover-fill-color: #FFFFFF;\n",
              "      --disabled-bg-color: #3B4455;\n",
              "      --disabled-fill-color: #666;\n",
              "  }\n",
              "\n",
              "  .colab-df-quickchart {\n",
              "    background-color: var(--bg-color);\n",
              "    border: none;\n",
              "    border-radius: 50%;\n",
              "    cursor: pointer;\n",
              "    display: none;\n",
              "    fill: var(--fill-color);\n",
              "    height: 32px;\n",
              "    padding: 0;\n",
              "    width: 32px;\n",
              "  }\n",
              "\n",
              "  .colab-df-quickchart:hover {\n",
              "    background-color: var(--hover-bg-color);\n",
              "    box-shadow: 0 1px 2px rgba(60, 64, 67, 0.3), 0 1px 3px 1px rgba(60, 64, 67, 0.15);\n",
              "    fill: var(--button-hover-fill-color);\n",
              "  }\n",
              "\n",
              "  .colab-df-quickchart-complete:disabled,\n",
              "  .colab-df-quickchart-complete:disabled:hover {\n",
              "    background-color: var(--disabled-bg-color);\n",
              "    fill: var(--disabled-fill-color);\n",
              "    box-shadow: none;\n",
              "  }\n",
              "\n",
              "  .colab-df-spinner {\n",
              "    border: 2px solid var(--fill-color);\n",
              "    border-color: transparent;\n",
              "    border-bottom-color: var(--fill-color);\n",
              "    animation:\n",
              "      spin 1s steps(1) infinite;\n",
              "  }\n",
              "\n",
              "  @keyframes spin {\n",
              "    0% {\n",
              "      border-color: transparent;\n",
              "      border-bottom-color: var(--fill-color);\n",
              "      border-left-color: var(--fill-color);\n",
              "    }\n",
              "    20% {\n",
              "      border-color: transparent;\n",
              "      border-left-color: var(--fill-color);\n",
              "      border-top-color: var(--fill-color);\n",
              "    }\n",
              "    30% {\n",
              "      border-color: transparent;\n",
              "      border-left-color: var(--fill-color);\n",
              "      border-top-color: var(--fill-color);\n",
              "      border-right-color: var(--fill-color);\n",
              "    }\n",
              "    40% {\n",
              "      border-color: transparent;\n",
              "      border-right-color: var(--fill-color);\n",
              "      border-top-color: var(--fill-color);\n",
              "    }\n",
              "    60% {\n",
              "      border-color: transparent;\n",
              "      border-right-color: var(--fill-color);\n",
              "    }\n",
              "    80% {\n",
              "      border-color: transparent;\n",
              "      border-right-color: var(--fill-color);\n",
              "      border-bottom-color: var(--fill-color);\n",
              "    }\n",
              "    90% {\n",
              "      border-color: transparent;\n",
              "      border-bottom-color: var(--fill-color);\n",
              "    }\n",
              "  }\n",
              "</style>\n",
              "\n",
              "  <script>\n",
              "    async function quickchart(key) {\n",
              "      const quickchartButtonEl =\n",
              "        document.querySelector('#' + key + ' button');\n",
              "      quickchartButtonEl.disabled = true;  // To prevent multiple clicks.\n",
              "      quickchartButtonEl.classList.add('colab-df-spinner');\n",
              "      try {\n",
              "        const charts = await google.colab.kernel.invokeFunction(\n",
              "            'suggestCharts', [key], {});\n",
              "      } catch (error) {\n",
              "        console.error('Error during call to suggestCharts:', error);\n",
              "      }\n",
              "      quickchartButtonEl.classList.remove('colab-df-spinner');\n",
              "      quickchartButtonEl.classList.add('colab-df-quickchart-complete');\n",
              "    }\n",
              "    (() => {\n",
              "      let quickchartButtonEl =\n",
              "        document.querySelector('#df-bc93daec-e94e-4f72-82f9-ea0b276e1e2f button');\n",
              "      quickchartButtonEl.style.display =\n",
              "        google.colab.kernel.accessAllowed ? 'block' : 'none';\n",
              "    })();\n",
              "  </script>\n",
              "</div>\n",
              "\n",
              "    </div>\n",
              "  </div>\n"
            ],
            "application/vnd.google.colaboratory.intrinsic+json": {
              "type": "dataframe",
              "variable_name": "data",
              "summary": "{\n  \"name\": \"data\",\n  \"rows\": 3658,\n  \"fields\": [\n    {\n      \"column\": \"male\",\n      \"properties\": {\n        \"dtype\": \"number\",\n        \"std\": 0,\n        \"min\": 0,\n        \"max\": 1,\n        \"num_unique_values\": 2,\n        \"samples\": [\n          0,\n          1\n        ],\n        \"semantic_type\": \"\",\n        \"description\": \"\"\n      }\n    },\n    {\n      \"column\": \"age\",\n      \"properties\": {\n        \"dtype\": \"number\",\n        \"std\": 8,\n        \"min\": 32,\n        \"max\": 70,\n        \"num_unique_values\": 39,\n        \"samples\": [\n          68,\n          32\n        ],\n        \"semantic_type\": \"\",\n        \"description\": \"\"\n      }\n    },\n    {\n      \"column\": \"education\",\n      \"properties\": {\n        \"dtype\": \"number\",\n        \"std\": 1,\n        \"min\": 1,\n        \"max\": 4,\n        \"num_unique_values\": 4,\n        \"samples\": [\n          2,\n          3\n        ],\n        \"semantic_type\": \"\",\n        \"description\": \"\"\n      }\n    },\n    {\n      \"column\": \"currentSmoker\",\n      \"properties\": {\n        \"dtype\": \"number\",\n        \"std\": 0,\n        \"min\": 0,\n        \"max\": 1,\n        \"num_unique_values\": 2,\n        \"samples\": [\n          1,\n          0\n        ],\n        \"semantic_type\": \"\",\n        \"description\": \"\"\n      }\n    },\n    {\n      \"column\": \"cigsPerDay\",\n      \"properties\": {\n        \"dtype\": \"number\",\n        \"std\": 11,\n        \"min\": 0,\n        \"max\": 70,\n        \"num_unique_values\": 33,\n        \"samples\": [\n          70,\n          4\n        ],\n        \"semantic_type\": \"\",\n        \"description\": \"\"\n      }\n    },\n    {\n      \"column\": \"BPMeds\",\n      \"properties\": {\n        \"dtype\": \"number\",\n        \"std\": 0,\n        \"min\": 0,\n        \"max\": 1,\n        \"num_unique_values\": 2,\n        \"samples\": [\n          1,\n          0\n        ],\n        \"semantic_type\": \"\",\n        \"description\": \"\"\n      }\n    },\n    {\n      \"column\": \"prevalentStroke\",\n      \"properties\": {\n        \"dtype\": \"number\",\n        \"std\": 0,\n        \"min\": 0,\n        \"max\": 1,\n        \"num_unique_values\": 2,\n        \"samples\": [\n          1,\n          0\n        ],\n        \"semantic_type\": \"\",\n        \"description\": \"\"\n      }\n    },\n    {\n      \"column\": \"prevalentHyp\",\n      \"properties\": {\n        \"dtype\": \"number\",\n        \"std\": 0,\n        \"min\": 0,\n        \"max\": 1,\n        \"num_unique_values\": 2,\n        \"samples\": [\n          1,\n          0\n        ],\n        \"semantic_type\": \"\",\n        \"description\": \"\"\n      }\n    },\n    {\n      \"column\": \"diabetes\",\n      \"properties\": {\n        \"dtype\": \"number\",\n        \"std\": 0,\n        \"min\": 0,\n        \"max\": 1,\n        \"num_unique_values\": 2,\n        \"samples\": [\n          1,\n          0\n        ],\n        \"semantic_type\": \"\",\n        \"description\": \"\"\n      }\n    },\n    {\n      \"column\": \"totChol\",\n      \"properties\": {\n        \"dtype\": \"number\",\n        \"std\": 44,\n        \"min\": 113,\n        \"max\": 600,\n        \"num_unique_values\": 241,\n        \"samples\": [\n          214,\n          205\n        ],\n        \"semantic_type\": \"\",\n        \"description\": \"\"\n      }\n    },\n    {\n      \"column\": \"sysBP\",\n      \"properties\": {\n        \"dtype\": \"number\",\n        \"std\": 22.086865567312863,\n        \"min\": 83.5,\n        \"max\": 295.0,\n        \"num_unique_values\": 231,\n        \"samples\": [\n          199.5,\n          105.0\n        ],\n        \"semantic_type\": \"\",\n        \"description\": \"\"\n      }\n    },\n    {\n      \"column\": \"diaBP\",\n      \"properties\": {\n        \"dtype\": \"number\",\n        \"std\": 11.974257651761105,\n        \"min\": 48.0,\n        \"max\": 142.5,\n        \"num_unique_values\": 142,\n        \"samples\": [\n          110.5,\n          121.0\n        ],\n        \"semantic_type\": \"\",\n        \"description\": \"\"\n      }\n    },\n    {\n      \"column\": \"BMI\",\n      \"properties\": {\n        \"dtype\": \"number\",\n        \"std\": 4.06560063866396,\n        \"min\": 15.54,\n        \"max\": 56.8,\n        \"num_unique_values\": 1298,\n        \"samples\": [\n          29.99,\n          24.61\n        ],\n        \"semantic_type\": \"\",\n        \"description\": \"\"\n      }\n    },\n    {\n      \"column\": \"heartRate\",\n      \"properties\": {\n        \"dtype\": \"number\",\n        \"std\": 11,\n        \"min\": 44,\n        \"max\": 143,\n        \"num_unique_values\": 72,\n        \"samples\": [\n          85,\n          45\n        ],\n        \"semantic_type\": \"\",\n        \"description\": \"\"\n      }\n    },\n    {\n      \"column\": \"glucose\",\n      \"properties\": {\n        \"dtype\": \"number\",\n        \"std\": 23,\n        \"min\": 40,\n        \"max\": 394,\n        \"num_unique_values\": 138,\n        \"samples\": [\n          111,\n          43\n        ],\n        \"semantic_type\": \"\",\n        \"description\": \"\"\n      }\n    },\n    {\n      \"column\": \"TenYearCHD\",\n      \"properties\": {\n        \"dtype\": \"number\",\n        \"std\": 0,\n        \"min\": 0,\n        \"max\": 1,\n        \"num_unique_values\": 2,\n        \"samples\": [\n          1,\n          0\n        ],\n        \"semantic_type\": \"\",\n        \"description\": \"\"\n      }\n    }\n  ]\n}"
            }
          },
          "metadata": {},
          "execution_count": 3
        }
      ]
    },
    {
      "cell_type": "code",
      "metadata": {
        "id": "lF61pMIBqrkQ",
        "colab": {
          "base_uri": "https://localhost:8080/",
          "height": 221
        },
        "outputId": "37f6327a-b2a6-42f6-bebd-fdca2d06ccca"
      },
      "source": [
        "data.tail(5)"
      ],
      "execution_count": null,
      "outputs": [
        {
          "output_type": "execute_result",
          "data": {
            "text/plain": [
              "      male  age  education  currentSmoker  cigsPerDay  BPMeds  \\\n",
              "4234     1   50          1              1           1       0   \n",
              "4235     1   51          3              1          43       0   \n",
              "4238     0   52          2              0           0       0   \n",
              "4239     1   40          3              0           0       0   \n",
              "4240     0   39          3              1          30       0   \n",
              "\n",
              "      prevalentStroke  prevalentHyp  diabetes  totChol  sysBP  diaBP    BMI  \\\n",
              "4234                0             1         0      313  179.0   92.0  25.97   \n",
              "4235                0             0         0      207  126.5   80.0  19.71   \n",
              "4238                0             0         0      269  133.5   83.0  21.47   \n",
              "4239                0             1         0      185  141.0   98.0  25.60   \n",
              "4240                0             0         0      196  133.0   86.0  20.91   \n",
              "\n",
              "      heartRate  glucose  TenYearCHD  \n",
              "4234         66       86           1  \n",
              "4235         65       68           0  \n",
              "4238         80      107           0  \n",
              "4239         67       72           0  \n",
              "4240         85       80           0  "
            ],
            "text/html": [
              "\n",
              "  <div id=\"df-d60e3831-52a8-49da-85db-c529a870d000\" class=\"colab-df-container\">\n",
              "    <div>\n",
              "<style scoped>\n",
              "    .dataframe tbody tr th:only-of-type {\n",
              "        vertical-align: middle;\n",
              "    }\n",
              "\n",
              "    .dataframe tbody tr th {\n",
              "        vertical-align: top;\n",
              "    }\n",
              "\n",
              "    .dataframe thead th {\n",
              "        text-align: right;\n",
              "    }\n",
              "</style>\n",
              "<table border=\"1\" class=\"dataframe\">\n",
              "  <thead>\n",
              "    <tr style=\"text-align: right;\">\n",
              "      <th></th>\n",
              "      <th>male</th>\n",
              "      <th>age</th>\n",
              "      <th>education</th>\n",
              "      <th>currentSmoker</th>\n",
              "      <th>cigsPerDay</th>\n",
              "      <th>BPMeds</th>\n",
              "      <th>prevalentStroke</th>\n",
              "      <th>prevalentHyp</th>\n",
              "      <th>diabetes</th>\n",
              "      <th>totChol</th>\n",
              "      <th>sysBP</th>\n",
              "      <th>diaBP</th>\n",
              "      <th>BMI</th>\n",
              "      <th>heartRate</th>\n",
              "      <th>glucose</th>\n",
              "      <th>TenYearCHD</th>\n",
              "    </tr>\n",
              "  </thead>\n",
              "  <tbody>\n",
              "    <tr>\n",
              "      <th>4234</th>\n",
              "      <td>1</td>\n",
              "      <td>50</td>\n",
              "      <td>1</td>\n",
              "      <td>1</td>\n",
              "      <td>1</td>\n",
              "      <td>0</td>\n",
              "      <td>0</td>\n",
              "      <td>1</td>\n",
              "      <td>0</td>\n",
              "      <td>313</td>\n",
              "      <td>179.0</td>\n",
              "      <td>92.0</td>\n",
              "      <td>25.97</td>\n",
              "      <td>66</td>\n",
              "      <td>86</td>\n",
              "      <td>1</td>\n",
              "    </tr>\n",
              "    <tr>\n",
              "      <th>4235</th>\n",
              "      <td>1</td>\n",
              "      <td>51</td>\n",
              "      <td>3</td>\n",
              "      <td>1</td>\n",
              "      <td>43</td>\n",
              "      <td>0</td>\n",
              "      <td>0</td>\n",
              "      <td>0</td>\n",
              "      <td>0</td>\n",
              "      <td>207</td>\n",
              "      <td>126.5</td>\n",
              "      <td>80.0</td>\n",
              "      <td>19.71</td>\n",
              "      <td>65</td>\n",
              "      <td>68</td>\n",
              "      <td>0</td>\n",
              "    </tr>\n",
              "    <tr>\n",
              "      <th>4238</th>\n",
              "      <td>0</td>\n",
              "      <td>52</td>\n",
              "      <td>2</td>\n",
              "      <td>0</td>\n",
              "      <td>0</td>\n",
              "      <td>0</td>\n",
              "      <td>0</td>\n",
              "      <td>0</td>\n",
              "      <td>0</td>\n",
              "      <td>269</td>\n",
              "      <td>133.5</td>\n",
              "      <td>83.0</td>\n",
              "      <td>21.47</td>\n",
              "      <td>80</td>\n",
              "      <td>107</td>\n",
              "      <td>0</td>\n",
              "    </tr>\n",
              "    <tr>\n",
              "      <th>4239</th>\n",
              "      <td>1</td>\n",
              "      <td>40</td>\n",
              "      <td>3</td>\n",
              "      <td>0</td>\n",
              "      <td>0</td>\n",
              "      <td>0</td>\n",
              "      <td>0</td>\n",
              "      <td>1</td>\n",
              "      <td>0</td>\n",
              "      <td>185</td>\n",
              "      <td>141.0</td>\n",
              "      <td>98.0</td>\n",
              "      <td>25.60</td>\n",
              "      <td>67</td>\n",
              "      <td>72</td>\n",
              "      <td>0</td>\n",
              "    </tr>\n",
              "    <tr>\n",
              "      <th>4240</th>\n",
              "      <td>0</td>\n",
              "      <td>39</td>\n",
              "      <td>3</td>\n",
              "      <td>1</td>\n",
              "      <td>30</td>\n",
              "      <td>0</td>\n",
              "      <td>0</td>\n",
              "      <td>0</td>\n",
              "      <td>0</td>\n",
              "      <td>196</td>\n",
              "      <td>133.0</td>\n",
              "      <td>86.0</td>\n",
              "      <td>20.91</td>\n",
              "      <td>85</td>\n",
              "      <td>80</td>\n",
              "      <td>0</td>\n",
              "    </tr>\n",
              "  </tbody>\n",
              "</table>\n",
              "</div>\n",
              "    <div class=\"colab-df-buttons\">\n",
              "\n",
              "  <div class=\"colab-df-container\">\n",
              "    <button class=\"colab-df-convert\" onclick=\"convertToInteractive('df-d60e3831-52a8-49da-85db-c529a870d000')\"\n",
              "            title=\"Convert this dataframe to an interactive table.\"\n",
              "            style=\"display:none;\">\n",
              "\n",
              "  <svg xmlns=\"http://www.w3.org/2000/svg\" height=\"24px\" viewBox=\"0 -960 960 960\">\n",
              "    <path d=\"M120-120v-720h720v720H120Zm60-500h600v-160H180v160Zm220 220h160v-160H400v160Zm0 220h160v-160H400v160ZM180-400h160v-160H180v160Zm440 0h160v-160H620v160ZM180-180h160v-160H180v160Zm440 0h160v-160H620v160Z\"/>\n",
              "  </svg>\n",
              "    </button>\n",
              "\n",
              "  <style>\n",
              "    .colab-df-container {\n",
              "      display:flex;\n",
              "      gap: 12px;\n",
              "    }\n",
              "\n",
              "    .colab-df-convert {\n",
              "      background-color: #E8F0FE;\n",
              "      border: none;\n",
              "      border-radius: 50%;\n",
              "      cursor: pointer;\n",
              "      display: none;\n",
              "      fill: #1967D2;\n",
              "      height: 32px;\n",
              "      padding: 0 0 0 0;\n",
              "      width: 32px;\n",
              "    }\n",
              "\n",
              "    .colab-df-convert:hover {\n",
              "      background-color: #E2EBFA;\n",
              "      box-shadow: 0px 1px 2px rgba(60, 64, 67, 0.3), 0px 1px 3px 1px rgba(60, 64, 67, 0.15);\n",
              "      fill: #174EA6;\n",
              "    }\n",
              "\n",
              "    .colab-df-buttons div {\n",
              "      margin-bottom: 4px;\n",
              "    }\n",
              "\n",
              "    [theme=dark] .colab-df-convert {\n",
              "      background-color: #3B4455;\n",
              "      fill: #D2E3FC;\n",
              "    }\n",
              "\n",
              "    [theme=dark] .colab-df-convert:hover {\n",
              "      background-color: #434B5C;\n",
              "      box-shadow: 0px 1px 3px 1px rgba(0, 0, 0, 0.15);\n",
              "      filter: drop-shadow(0px 1px 2px rgba(0, 0, 0, 0.3));\n",
              "      fill: #FFFFFF;\n",
              "    }\n",
              "  </style>\n",
              "\n",
              "    <script>\n",
              "      const buttonEl =\n",
              "        document.querySelector('#df-d60e3831-52a8-49da-85db-c529a870d000 button.colab-df-convert');\n",
              "      buttonEl.style.display =\n",
              "        google.colab.kernel.accessAllowed ? 'block' : 'none';\n",
              "\n",
              "      async function convertToInteractive(key) {\n",
              "        const element = document.querySelector('#df-d60e3831-52a8-49da-85db-c529a870d000');\n",
              "        const dataTable =\n",
              "          await google.colab.kernel.invokeFunction('convertToInteractive',\n",
              "                                                    [key], {});\n",
              "        if (!dataTable) return;\n",
              "\n",
              "        const docLinkHtml = 'Like what you see? Visit the ' +\n",
              "          '<a target=\"_blank\" href=https://colab.research.google.com/notebooks/data_table.ipynb>data table notebook</a>'\n",
              "          + ' to learn more about interactive tables.';\n",
              "        element.innerHTML = '';\n",
              "        dataTable['output_type'] = 'display_data';\n",
              "        await google.colab.output.renderOutput(dataTable, element);\n",
              "        const docLink = document.createElement('div');\n",
              "        docLink.innerHTML = docLinkHtml;\n",
              "        element.appendChild(docLink);\n",
              "      }\n",
              "    </script>\n",
              "  </div>\n",
              "\n",
              "\n",
              "<div id=\"df-47c37637-ac1c-47cf-b390-cd82dccb4191\">\n",
              "  <button class=\"colab-df-quickchart\" onclick=\"quickchart('df-47c37637-ac1c-47cf-b390-cd82dccb4191')\"\n",
              "            title=\"Suggest charts\"\n",
              "            style=\"display:none;\">\n",
              "\n",
              "<svg xmlns=\"http://www.w3.org/2000/svg\" height=\"24px\"viewBox=\"0 0 24 24\"\n",
              "     width=\"24px\">\n",
              "    <g>\n",
              "        <path d=\"M19 3H5c-1.1 0-2 .9-2 2v14c0 1.1.9 2 2 2h14c1.1 0 2-.9 2-2V5c0-1.1-.9-2-2-2zM9 17H7v-7h2v7zm4 0h-2V7h2v10zm4 0h-2v-4h2v4z\"/>\n",
              "    </g>\n",
              "</svg>\n",
              "  </button>\n",
              "\n",
              "<style>\n",
              "  .colab-df-quickchart {\n",
              "      --bg-color: #E8F0FE;\n",
              "      --fill-color: #1967D2;\n",
              "      --hover-bg-color: #E2EBFA;\n",
              "      --hover-fill-color: #174EA6;\n",
              "      --disabled-fill-color: #AAA;\n",
              "      --disabled-bg-color: #DDD;\n",
              "  }\n",
              "\n",
              "  [theme=dark] .colab-df-quickchart {\n",
              "      --bg-color: #3B4455;\n",
              "      --fill-color: #D2E3FC;\n",
              "      --hover-bg-color: #434B5C;\n",
              "      --hover-fill-color: #FFFFFF;\n",
              "      --disabled-bg-color: #3B4455;\n",
              "      --disabled-fill-color: #666;\n",
              "  }\n",
              "\n",
              "  .colab-df-quickchart {\n",
              "    background-color: var(--bg-color);\n",
              "    border: none;\n",
              "    border-radius: 50%;\n",
              "    cursor: pointer;\n",
              "    display: none;\n",
              "    fill: var(--fill-color);\n",
              "    height: 32px;\n",
              "    padding: 0;\n",
              "    width: 32px;\n",
              "  }\n",
              "\n",
              "  .colab-df-quickchart:hover {\n",
              "    background-color: var(--hover-bg-color);\n",
              "    box-shadow: 0 1px 2px rgba(60, 64, 67, 0.3), 0 1px 3px 1px rgba(60, 64, 67, 0.15);\n",
              "    fill: var(--button-hover-fill-color);\n",
              "  }\n",
              "\n",
              "  .colab-df-quickchart-complete:disabled,\n",
              "  .colab-df-quickchart-complete:disabled:hover {\n",
              "    background-color: var(--disabled-bg-color);\n",
              "    fill: var(--disabled-fill-color);\n",
              "    box-shadow: none;\n",
              "  }\n",
              "\n",
              "  .colab-df-spinner {\n",
              "    border: 2px solid var(--fill-color);\n",
              "    border-color: transparent;\n",
              "    border-bottom-color: var(--fill-color);\n",
              "    animation:\n",
              "      spin 1s steps(1) infinite;\n",
              "  }\n",
              "\n",
              "  @keyframes spin {\n",
              "    0% {\n",
              "      border-color: transparent;\n",
              "      border-bottom-color: var(--fill-color);\n",
              "      border-left-color: var(--fill-color);\n",
              "    }\n",
              "    20% {\n",
              "      border-color: transparent;\n",
              "      border-left-color: var(--fill-color);\n",
              "      border-top-color: var(--fill-color);\n",
              "    }\n",
              "    30% {\n",
              "      border-color: transparent;\n",
              "      border-left-color: var(--fill-color);\n",
              "      border-top-color: var(--fill-color);\n",
              "      border-right-color: var(--fill-color);\n",
              "    }\n",
              "    40% {\n",
              "      border-color: transparent;\n",
              "      border-right-color: var(--fill-color);\n",
              "      border-top-color: var(--fill-color);\n",
              "    }\n",
              "    60% {\n",
              "      border-color: transparent;\n",
              "      border-right-color: var(--fill-color);\n",
              "    }\n",
              "    80% {\n",
              "      border-color: transparent;\n",
              "      border-right-color: var(--fill-color);\n",
              "      border-bottom-color: var(--fill-color);\n",
              "    }\n",
              "    90% {\n",
              "      border-color: transparent;\n",
              "      border-bottom-color: var(--fill-color);\n",
              "    }\n",
              "  }\n",
              "</style>\n",
              "\n",
              "  <script>\n",
              "    async function quickchart(key) {\n",
              "      const quickchartButtonEl =\n",
              "        document.querySelector('#' + key + ' button');\n",
              "      quickchartButtonEl.disabled = true;  // To prevent multiple clicks.\n",
              "      quickchartButtonEl.classList.add('colab-df-spinner');\n",
              "      try {\n",
              "        const charts = await google.colab.kernel.invokeFunction(\n",
              "            'suggestCharts', [key], {});\n",
              "      } catch (error) {\n",
              "        console.error('Error during call to suggestCharts:', error);\n",
              "      }\n",
              "      quickchartButtonEl.classList.remove('colab-df-spinner');\n",
              "      quickchartButtonEl.classList.add('colab-df-quickchart-complete');\n",
              "    }\n",
              "    (() => {\n",
              "      let quickchartButtonEl =\n",
              "        document.querySelector('#df-47c37637-ac1c-47cf-b390-cd82dccb4191 button');\n",
              "      quickchartButtonEl.style.display =\n",
              "        google.colab.kernel.accessAllowed ? 'block' : 'none';\n",
              "    })();\n",
              "  </script>\n",
              "</div>\n",
              "\n",
              "    </div>\n",
              "  </div>\n"
            ],
            "application/vnd.google.colaboratory.intrinsic+json": {
              "type": "dataframe",
              "summary": "{\n  \"name\": \"data\",\n  \"rows\": 5,\n  \"fields\": [\n    {\n      \"column\": \"male\",\n      \"properties\": {\n        \"dtype\": \"number\",\n        \"std\": 0,\n        \"min\": 0,\n        \"max\": 1,\n        \"num_unique_values\": 2,\n        \"samples\": [\n          0,\n          1\n        ],\n        \"semantic_type\": \"\",\n        \"description\": \"\"\n      }\n    },\n    {\n      \"column\": \"age\",\n      \"properties\": {\n        \"dtype\": \"number\",\n        \"std\": 6,\n        \"min\": 39,\n        \"max\": 52,\n        \"num_unique_values\": 5,\n        \"samples\": [\n          51,\n          39\n        ],\n        \"semantic_type\": \"\",\n        \"description\": \"\"\n      }\n    },\n    {\n      \"column\": \"education\",\n      \"properties\": {\n        \"dtype\": \"number\",\n        \"std\": 0,\n        \"min\": 1,\n        \"max\": 3,\n        \"num_unique_values\": 3,\n        \"samples\": [\n          1,\n          3\n        ],\n        \"semantic_type\": \"\",\n        \"description\": \"\"\n      }\n    },\n    {\n      \"column\": \"currentSmoker\",\n      \"properties\": {\n        \"dtype\": \"number\",\n        \"std\": 0,\n        \"min\": 0,\n        \"max\": 1,\n        \"num_unique_values\": 2,\n        \"samples\": [\n          0,\n          1\n        ],\n        \"semantic_type\": \"\",\n        \"description\": \"\"\n      }\n    },\n    {\n      \"column\": \"cigsPerDay\",\n      \"properties\": {\n        \"dtype\": \"number\",\n        \"std\": 20,\n        \"min\": 0,\n        \"max\": 43,\n        \"num_unique_values\": 4,\n        \"samples\": [\n          43,\n          30\n        ],\n        \"semantic_type\": \"\",\n        \"description\": \"\"\n      }\n    },\n    {\n      \"column\": \"BPMeds\",\n      \"properties\": {\n        \"dtype\": \"number\",\n        \"std\": 0,\n        \"min\": 0,\n        \"max\": 0,\n        \"num_unique_values\": 1,\n        \"samples\": [\n          0\n        ],\n        \"semantic_type\": \"\",\n        \"description\": \"\"\n      }\n    },\n    {\n      \"column\": \"prevalentStroke\",\n      \"properties\": {\n        \"dtype\": \"number\",\n        \"std\": 0,\n        \"min\": 0,\n        \"max\": 0,\n        \"num_unique_values\": 1,\n        \"samples\": [\n          0\n        ],\n        \"semantic_type\": \"\",\n        \"description\": \"\"\n      }\n    },\n    {\n      \"column\": \"prevalentHyp\",\n      \"properties\": {\n        \"dtype\": \"number\",\n        \"std\": 0,\n        \"min\": 0,\n        \"max\": 1,\n        \"num_unique_values\": 2,\n        \"samples\": [\n          0\n        ],\n        \"semantic_type\": \"\",\n        \"description\": \"\"\n      }\n    },\n    {\n      \"column\": \"diabetes\",\n      \"properties\": {\n        \"dtype\": \"number\",\n        \"std\": 0,\n        \"min\": 0,\n        \"max\": 0,\n        \"num_unique_values\": 1,\n        \"samples\": [\n          0\n        ],\n        \"semantic_type\": \"\",\n        \"description\": \"\"\n      }\n    },\n    {\n      \"column\": \"totChol\",\n      \"properties\": {\n        \"dtype\": \"number\",\n        \"std\": 54,\n        \"min\": 185,\n        \"max\": 313,\n        \"num_unique_values\": 5,\n        \"samples\": [\n          207\n        ],\n        \"semantic_type\": \"\",\n        \"description\": \"\"\n      }\n    },\n    {\n      \"column\": \"sysBP\",\n      \"properties\": {\n        \"dtype\": \"number\",\n        \"std\": 20.98630505829933,\n        \"min\": 126.5,\n        \"max\": 179.0,\n        \"num_unique_values\": 5,\n        \"samples\": [\n          126.5\n        ],\n        \"semantic_type\": \"\",\n        \"description\": \"\"\n      }\n    },\n    {\n      \"column\": \"diaBP\",\n      \"properties\": {\n        \"dtype\": \"number\",\n        \"std\": 7.224956747275377,\n        \"min\": 80.0,\n        \"max\": 98.0,\n        \"num_unique_values\": 5,\n        \"samples\": [\n          80.0\n        ],\n        \"semantic_type\": \"\",\n        \"description\": \"\"\n      }\n    },\n    {\n      \"column\": \"BMI\",\n      \"properties\": {\n        \"dtype\": \"number\",\n        \"std\": 2.861593961413813,\n        \"min\": 19.71,\n        \"max\": 25.97,\n        \"num_unique_values\": 5,\n        \"samples\": [\n          19.71\n        ],\n        \"semantic_type\": \"\",\n        \"description\": \"\"\n      }\n    },\n    {\n      \"column\": \"heartRate\",\n      \"properties\": {\n        \"dtype\": \"number\",\n        \"std\": 9,\n        \"min\": 65,\n        \"max\": 85,\n        \"num_unique_values\": 5,\n        \"samples\": [\n          65\n        ],\n        \"semantic_type\": \"\",\n        \"description\": \"\"\n      }\n    },\n    {\n      \"column\": \"glucose\",\n      \"properties\": {\n        \"dtype\": \"number\",\n        \"std\": 15,\n        \"min\": 68,\n        \"max\": 107,\n        \"num_unique_values\": 5,\n        \"samples\": [\n          68\n        ],\n        \"semantic_type\": \"\",\n        \"description\": \"\"\n      }\n    },\n    {\n      \"column\": \"TenYearCHD\",\n      \"properties\": {\n        \"dtype\": \"number\",\n        \"std\": 0,\n        \"min\": 0,\n        \"max\": 1,\n        \"num_unique_values\": 2,\n        \"samples\": [\n          0\n        ],\n        \"semantic_type\": \"\",\n        \"description\": \"\"\n      }\n    }\n  ]\n}"
            }
          },
          "metadata": {},
          "execution_count": 4
        }
      ]
    },
    {
      "cell_type": "markdown",
      "metadata": {
        "id": "GNln7mzGqvO1"
      },
      "source": [
        "# Data Exploration\n",
        "\n",
        "Let's try to understand the data a bit better. This step is essential in any application of machine learning. Pre-processing your data is key to a successful model development."
      ]
    },
    {
      "cell_type": "markdown",
      "metadata": {
        "id": "66M1iLY7d9gM"
      },
      "source": [
        "### Numerical Exploration"
      ]
    },
    {
      "cell_type": "markdown",
      "metadata": {
        "id": "yx0wq4z2q4tY"
      },
      "source": [
        "How many columns and rows are in this dataset?"
      ]
    },
    {
      "cell_type": "code",
      "metadata": {
        "id": "l9tbd43Sq6UV",
        "colab": {
          "base_uri": "https://localhost:8080/"
        },
        "outputId": "4e0fb19c-e9cc-4ec7-da99-7e4461ddfa7e"
      },
      "source": [
        "print('The shape of the data is ', data.shape)"
      ],
      "execution_count": null,
      "outputs": [
        {
          "output_type": "stream",
          "name": "stdout",
          "text": [
            "The shape of the data is  (3658, 16)\n"
          ]
        }
      ]
    },
    {
      "cell_type": "markdown",
      "source": [
        "What is the type of each column?"
      ],
      "metadata": {
        "id": "TiO_ry9Z4Wod"
      }
    },
    {
      "cell_type": "code",
      "source": [
        "data.info()"
      ],
      "metadata": {
        "id": "bwA5Tc0F4Z44",
        "colab": {
          "base_uri": "https://localhost:8080/"
        },
        "outputId": "d6ef5e33-59e1-44c1-d9e7-0d68370f9b86"
      },
      "execution_count": null,
      "outputs": [
        {
          "output_type": "stream",
          "name": "stdout",
          "text": [
            "<class 'pandas.core.frame.DataFrame'>\n",
            "Index: 3658 entries, 1 to 4240\n",
            "Data columns (total 16 columns):\n",
            " #   Column           Non-Null Count  Dtype  \n",
            "---  ------           --------------  -----  \n",
            " 0   male             3658 non-null   int64  \n",
            " 1   age              3658 non-null   int64  \n",
            " 2   education        3658 non-null   int64  \n",
            " 3   currentSmoker    3658 non-null   int64  \n",
            " 4   cigsPerDay       3658 non-null   int64  \n",
            " 5   BPMeds           3658 non-null   int64  \n",
            " 6   prevalentStroke  3658 non-null   int64  \n",
            " 7   prevalentHyp     3658 non-null   int64  \n",
            " 8   diabetes         3658 non-null   int64  \n",
            " 9   totChol          3658 non-null   int64  \n",
            " 10  sysBP            3658 non-null   float64\n",
            " 11  diaBP            3658 non-null   float64\n",
            " 12  BMI              3658 non-null   float64\n",
            " 13  heartRate        3658 non-null   int64  \n",
            " 14  glucose          3658 non-null   int64  \n",
            " 15  TenYearCHD       3658 non-null   int64  \n",
            "dtypes: float64(3), int64(13)\n",
            "memory usage: 485.8 KB\n"
          ]
        }
      ]
    },
    {
      "cell_type": "markdown",
      "source": [
        "Calculate basic statistics for each column.\n",
        "What is the interpretation of the mean for binary (0/1 features)?"
      ],
      "metadata": {
        "id": "hXhIjnJw3D5I"
      }
    },
    {
      "cell_type": "code",
      "metadata": {
        "id": "6jq_OntVrCwu",
        "colab": {
          "base_uri": "https://localhost:8080/",
          "height": 311
        },
        "outputId": "41e2749a-e93b-4e79-e4ab-e4f18819e5a5"
      },
      "source": [
        "data.describe()"
      ],
      "execution_count": null,
      "outputs": [
        {
          "output_type": "execute_result",
          "data": {
            "text/plain": [
              "              male          age    education  currentSmoker   cigsPerDay  \\\n",
              "count  3658.000000  3658.000000  3658.000000    3658.000000  3658.000000   \n",
              "mean      0.443685    49.551941     1.980317       0.489065     9.025424   \n",
              "std       0.496886     8.562029     1.022656       0.499949    11.921590   \n",
              "min       0.000000    32.000000     1.000000       0.000000     0.000000   \n",
              "25%       0.000000    42.000000     1.000000       0.000000     0.000000   \n",
              "50%       0.000000    49.000000     2.000000       0.000000     0.000000   \n",
              "75%       1.000000    56.000000     3.000000       1.000000    20.000000   \n",
              "max       1.000000    70.000000     4.000000       1.000000    70.000000   \n",
              "\n",
              "            BPMeds  prevalentStroke  prevalentHyp     diabetes      totChol  \\\n",
              "count  3658.000000      3658.000000   3658.000000  3658.000000  3658.000000   \n",
              "mean      0.030344         0.005741      0.311646     0.027064   236.847731   \n",
              "std       0.171557         0.075561      0.463229     0.162292    44.097681   \n",
              "min       0.000000         0.000000      0.000000     0.000000   113.000000   \n",
              "25%       0.000000         0.000000      0.000000     0.000000   206.000000   \n",
              "50%       0.000000         0.000000      0.000000     0.000000   234.000000   \n",
              "75%       0.000000         0.000000      1.000000     0.000000   263.000000   \n",
              "max       1.000000         1.000000      1.000000     1.000000   600.000000   \n",
              "\n",
              "             sysBP        diaBP          BMI    heartRate      glucose  \\\n",
              "count  3658.000000  3658.000000  3658.000000  3658.000000  3658.000000   \n",
              "mean    132.370558    82.917031    25.782802    75.730727    81.852925   \n",
              "std      22.086866    11.974258     4.065601    11.981525    23.904164   \n",
              "min      83.500000    48.000000    15.540000    44.000000    40.000000   \n",
              "25%     117.000000    75.000000    23.080000    68.000000    71.000000   \n",
              "50%     128.000000    82.000000    25.380000    75.000000    78.000000   \n",
              "75%     143.875000    90.000000    28.037500    82.000000    87.000000   \n",
              "max     295.000000   142.500000    56.800000   143.000000   394.000000   \n",
              "\n",
              "        TenYearCHD  \n",
              "count  3658.000000  \n",
              "mean      0.152269  \n",
              "std       0.359331  \n",
              "min       0.000000  \n",
              "25%       0.000000  \n",
              "50%       0.000000  \n",
              "75%       0.000000  \n",
              "max       1.000000  "
            ],
            "text/html": [
              "\n",
              "  <div id=\"df-88dd7eb8-84d8-43f8-b76f-98094b883c76\" class=\"colab-df-container\">\n",
              "    <div>\n",
              "<style scoped>\n",
              "    .dataframe tbody tr th:only-of-type {\n",
              "        vertical-align: middle;\n",
              "    }\n",
              "\n",
              "    .dataframe tbody tr th {\n",
              "        vertical-align: top;\n",
              "    }\n",
              "\n",
              "    .dataframe thead th {\n",
              "        text-align: right;\n",
              "    }\n",
              "</style>\n",
              "<table border=\"1\" class=\"dataframe\">\n",
              "  <thead>\n",
              "    <tr style=\"text-align: right;\">\n",
              "      <th></th>\n",
              "      <th>male</th>\n",
              "      <th>age</th>\n",
              "      <th>education</th>\n",
              "      <th>currentSmoker</th>\n",
              "      <th>cigsPerDay</th>\n",
              "      <th>BPMeds</th>\n",
              "      <th>prevalentStroke</th>\n",
              "      <th>prevalentHyp</th>\n",
              "      <th>diabetes</th>\n",
              "      <th>totChol</th>\n",
              "      <th>sysBP</th>\n",
              "      <th>diaBP</th>\n",
              "      <th>BMI</th>\n",
              "      <th>heartRate</th>\n",
              "      <th>glucose</th>\n",
              "      <th>TenYearCHD</th>\n",
              "    </tr>\n",
              "  </thead>\n",
              "  <tbody>\n",
              "    <tr>\n",
              "      <th>count</th>\n",
              "      <td>3658.000000</td>\n",
              "      <td>3658.000000</td>\n",
              "      <td>3658.000000</td>\n",
              "      <td>3658.000000</td>\n",
              "      <td>3658.000000</td>\n",
              "      <td>3658.000000</td>\n",
              "      <td>3658.000000</td>\n",
              "      <td>3658.000000</td>\n",
              "      <td>3658.000000</td>\n",
              "      <td>3658.000000</td>\n",
              "      <td>3658.000000</td>\n",
              "      <td>3658.000000</td>\n",
              "      <td>3658.000000</td>\n",
              "      <td>3658.000000</td>\n",
              "      <td>3658.000000</td>\n",
              "      <td>3658.000000</td>\n",
              "    </tr>\n",
              "    <tr>\n",
              "      <th>mean</th>\n",
              "      <td>0.443685</td>\n",
              "      <td>49.551941</td>\n",
              "      <td>1.980317</td>\n",
              "      <td>0.489065</td>\n",
              "      <td>9.025424</td>\n",
              "      <td>0.030344</td>\n",
              "      <td>0.005741</td>\n",
              "      <td>0.311646</td>\n",
              "      <td>0.027064</td>\n",
              "      <td>236.847731</td>\n",
              "      <td>132.370558</td>\n",
              "      <td>82.917031</td>\n",
              "      <td>25.782802</td>\n",
              "      <td>75.730727</td>\n",
              "      <td>81.852925</td>\n",
              "      <td>0.152269</td>\n",
              "    </tr>\n",
              "    <tr>\n",
              "      <th>std</th>\n",
              "      <td>0.496886</td>\n",
              "      <td>8.562029</td>\n",
              "      <td>1.022656</td>\n",
              "      <td>0.499949</td>\n",
              "      <td>11.921590</td>\n",
              "      <td>0.171557</td>\n",
              "      <td>0.075561</td>\n",
              "      <td>0.463229</td>\n",
              "      <td>0.162292</td>\n",
              "      <td>44.097681</td>\n",
              "      <td>22.086866</td>\n",
              "      <td>11.974258</td>\n",
              "      <td>4.065601</td>\n",
              "      <td>11.981525</td>\n",
              "      <td>23.904164</td>\n",
              "      <td>0.359331</td>\n",
              "    </tr>\n",
              "    <tr>\n",
              "      <th>min</th>\n",
              "      <td>0.000000</td>\n",
              "      <td>32.000000</td>\n",
              "      <td>1.000000</td>\n",
              "      <td>0.000000</td>\n",
              "      <td>0.000000</td>\n",
              "      <td>0.000000</td>\n",
              "      <td>0.000000</td>\n",
              "      <td>0.000000</td>\n",
              "      <td>0.000000</td>\n",
              "      <td>113.000000</td>\n",
              "      <td>83.500000</td>\n",
              "      <td>48.000000</td>\n",
              "      <td>15.540000</td>\n",
              "      <td>44.000000</td>\n",
              "      <td>40.000000</td>\n",
              "      <td>0.000000</td>\n",
              "    </tr>\n",
              "    <tr>\n",
              "      <th>25%</th>\n",
              "      <td>0.000000</td>\n",
              "      <td>42.000000</td>\n",
              "      <td>1.000000</td>\n",
              "      <td>0.000000</td>\n",
              "      <td>0.000000</td>\n",
              "      <td>0.000000</td>\n",
              "      <td>0.000000</td>\n",
              "      <td>0.000000</td>\n",
              "      <td>0.000000</td>\n",
              "      <td>206.000000</td>\n",
              "      <td>117.000000</td>\n",
              "      <td>75.000000</td>\n",
              "      <td>23.080000</td>\n",
              "      <td>68.000000</td>\n",
              "      <td>71.000000</td>\n",
              "      <td>0.000000</td>\n",
              "    </tr>\n",
              "    <tr>\n",
              "      <th>50%</th>\n",
              "      <td>0.000000</td>\n",
              "      <td>49.000000</td>\n",
              "      <td>2.000000</td>\n",
              "      <td>0.000000</td>\n",
              "      <td>0.000000</td>\n",
              "      <td>0.000000</td>\n",
              "      <td>0.000000</td>\n",
              "      <td>0.000000</td>\n",
              "      <td>0.000000</td>\n",
              "      <td>234.000000</td>\n",
              "      <td>128.000000</td>\n",
              "      <td>82.000000</td>\n",
              "      <td>25.380000</td>\n",
              "      <td>75.000000</td>\n",
              "      <td>78.000000</td>\n",
              "      <td>0.000000</td>\n",
              "    </tr>\n",
              "    <tr>\n",
              "      <th>75%</th>\n",
              "      <td>1.000000</td>\n",
              "      <td>56.000000</td>\n",
              "      <td>3.000000</td>\n",
              "      <td>1.000000</td>\n",
              "      <td>20.000000</td>\n",
              "      <td>0.000000</td>\n",
              "      <td>0.000000</td>\n",
              "      <td>1.000000</td>\n",
              "      <td>0.000000</td>\n",
              "      <td>263.000000</td>\n",
              "      <td>143.875000</td>\n",
              "      <td>90.000000</td>\n",
              "      <td>28.037500</td>\n",
              "      <td>82.000000</td>\n",
              "      <td>87.000000</td>\n",
              "      <td>0.000000</td>\n",
              "    </tr>\n",
              "    <tr>\n",
              "      <th>max</th>\n",
              "      <td>1.000000</td>\n",
              "      <td>70.000000</td>\n",
              "      <td>4.000000</td>\n",
              "      <td>1.000000</td>\n",
              "      <td>70.000000</td>\n",
              "      <td>1.000000</td>\n",
              "      <td>1.000000</td>\n",
              "      <td>1.000000</td>\n",
              "      <td>1.000000</td>\n",
              "      <td>600.000000</td>\n",
              "      <td>295.000000</td>\n",
              "      <td>142.500000</td>\n",
              "      <td>56.800000</td>\n",
              "      <td>143.000000</td>\n",
              "      <td>394.000000</td>\n",
              "      <td>1.000000</td>\n",
              "    </tr>\n",
              "  </tbody>\n",
              "</table>\n",
              "</div>\n",
              "    <div class=\"colab-df-buttons\">\n",
              "\n",
              "  <div class=\"colab-df-container\">\n",
              "    <button class=\"colab-df-convert\" onclick=\"convertToInteractive('df-88dd7eb8-84d8-43f8-b76f-98094b883c76')\"\n",
              "            title=\"Convert this dataframe to an interactive table.\"\n",
              "            style=\"display:none;\">\n",
              "\n",
              "  <svg xmlns=\"http://www.w3.org/2000/svg\" height=\"24px\" viewBox=\"0 -960 960 960\">\n",
              "    <path d=\"M120-120v-720h720v720H120Zm60-500h600v-160H180v160Zm220 220h160v-160H400v160Zm0 220h160v-160H400v160ZM180-400h160v-160H180v160Zm440 0h160v-160H620v160ZM180-180h160v-160H180v160Zm440 0h160v-160H620v160Z\"/>\n",
              "  </svg>\n",
              "    </button>\n",
              "\n",
              "  <style>\n",
              "    .colab-df-container {\n",
              "      display:flex;\n",
              "      gap: 12px;\n",
              "    }\n",
              "\n",
              "    .colab-df-convert {\n",
              "      background-color: #E8F0FE;\n",
              "      border: none;\n",
              "      border-radius: 50%;\n",
              "      cursor: pointer;\n",
              "      display: none;\n",
              "      fill: #1967D2;\n",
              "      height: 32px;\n",
              "      padding: 0 0 0 0;\n",
              "      width: 32px;\n",
              "    }\n",
              "\n",
              "    .colab-df-convert:hover {\n",
              "      background-color: #E2EBFA;\n",
              "      box-shadow: 0px 1px 2px rgba(60, 64, 67, 0.3), 0px 1px 3px 1px rgba(60, 64, 67, 0.15);\n",
              "      fill: #174EA6;\n",
              "    }\n",
              "\n",
              "    .colab-df-buttons div {\n",
              "      margin-bottom: 4px;\n",
              "    }\n",
              "\n",
              "    [theme=dark] .colab-df-convert {\n",
              "      background-color: #3B4455;\n",
              "      fill: #D2E3FC;\n",
              "    }\n",
              "\n",
              "    [theme=dark] .colab-df-convert:hover {\n",
              "      background-color: #434B5C;\n",
              "      box-shadow: 0px 1px 3px 1px rgba(0, 0, 0, 0.15);\n",
              "      filter: drop-shadow(0px 1px 2px rgba(0, 0, 0, 0.3));\n",
              "      fill: #FFFFFF;\n",
              "    }\n",
              "  </style>\n",
              "\n",
              "    <script>\n",
              "      const buttonEl =\n",
              "        document.querySelector('#df-88dd7eb8-84d8-43f8-b76f-98094b883c76 button.colab-df-convert');\n",
              "      buttonEl.style.display =\n",
              "        google.colab.kernel.accessAllowed ? 'block' : 'none';\n",
              "\n",
              "      async function convertToInteractive(key) {\n",
              "        const element = document.querySelector('#df-88dd7eb8-84d8-43f8-b76f-98094b883c76');\n",
              "        const dataTable =\n",
              "          await google.colab.kernel.invokeFunction('convertToInteractive',\n",
              "                                                    [key], {});\n",
              "        if (!dataTable) return;\n",
              "\n",
              "        const docLinkHtml = 'Like what you see? Visit the ' +\n",
              "          '<a target=\"_blank\" href=https://colab.research.google.com/notebooks/data_table.ipynb>data table notebook</a>'\n",
              "          + ' to learn more about interactive tables.';\n",
              "        element.innerHTML = '';\n",
              "        dataTable['output_type'] = 'display_data';\n",
              "        await google.colab.output.renderOutput(dataTable, element);\n",
              "        const docLink = document.createElement('div');\n",
              "        docLink.innerHTML = docLinkHtml;\n",
              "        element.appendChild(docLink);\n",
              "      }\n",
              "    </script>\n",
              "  </div>\n",
              "\n",
              "\n",
              "<div id=\"df-99a93362-c7d3-412e-8a46-2ac8b5d7699b\">\n",
              "  <button class=\"colab-df-quickchart\" onclick=\"quickchart('df-99a93362-c7d3-412e-8a46-2ac8b5d7699b')\"\n",
              "            title=\"Suggest charts\"\n",
              "            style=\"display:none;\">\n",
              "\n",
              "<svg xmlns=\"http://www.w3.org/2000/svg\" height=\"24px\"viewBox=\"0 0 24 24\"\n",
              "     width=\"24px\">\n",
              "    <g>\n",
              "        <path d=\"M19 3H5c-1.1 0-2 .9-2 2v14c0 1.1.9 2 2 2h14c1.1 0 2-.9 2-2V5c0-1.1-.9-2-2-2zM9 17H7v-7h2v7zm4 0h-2V7h2v10zm4 0h-2v-4h2v4z\"/>\n",
              "    </g>\n",
              "</svg>\n",
              "  </button>\n",
              "\n",
              "<style>\n",
              "  .colab-df-quickchart {\n",
              "      --bg-color: #E8F0FE;\n",
              "      --fill-color: #1967D2;\n",
              "      --hover-bg-color: #E2EBFA;\n",
              "      --hover-fill-color: #174EA6;\n",
              "      --disabled-fill-color: #AAA;\n",
              "      --disabled-bg-color: #DDD;\n",
              "  }\n",
              "\n",
              "  [theme=dark] .colab-df-quickchart {\n",
              "      --bg-color: #3B4455;\n",
              "      --fill-color: #D2E3FC;\n",
              "      --hover-bg-color: #434B5C;\n",
              "      --hover-fill-color: #FFFFFF;\n",
              "      --disabled-bg-color: #3B4455;\n",
              "      --disabled-fill-color: #666;\n",
              "  }\n",
              "\n",
              "  .colab-df-quickchart {\n",
              "    background-color: var(--bg-color);\n",
              "    border: none;\n",
              "    border-radius: 50%;\n",
              "    cursor: pointer;\n",
              "    display: none;\n",
              "    fill: var(--fill-color);\n",
              "    height: 32px;\n",
              "    padding: 0;\n",
              "    width: 32px;\n",
              "  }\n",
              "\n",
              "  .colab-df-quickchart:hover {\n",
              "    background-color: var(--hover-bg-color);\n",
              "    box-shadow: 0 1px 2px rgba(60, 64, 67, 0.3), 0 1px 3px 1px rgba(60, 64, 67, 0.15);\n",
              "    fill: var(--button-hover-fill-color);\n",
              "  }\n",
              "\n",
              "  .colab-df-quickchart-complete:disabled,\n",
              "  .colab-df-quickchart-complete:disabled:hover {\n",
              "    background-color: var(--disabled-bg-color);\n",
              "    fill: var(--disabled-fill-color);\n",
              "    box-shadow: none;\n",
              "  }\n",
              "\n",
              "  .colab-df-spinner {\n",
              "    border: 2px solid var(--fill-color);\n",
              "    border-color: transparent;\n",
              "    border-bottom-color: var(--fill-color);\n",
              "    animation:\n",
              "      spin 1s steps(1) infinite;\n",
              "  }\n",
              "\n",
              "  @keyframes spin {\n",
              "    0% {\n",
              "      border-color: transparent;\n",
              "      border-bottom-color: var(--fill-color);\n",
              "      border-left-color: var(--fill-color);\n",
              "    }\n",
              "    20% {\n",
              "      border-color: transparent;\n",
              "      border-left-color: var(--fill-color);\n",
              "      border-top-color: var(--fill-color);\n",
              "    }\n",
              "    30% {\n",
              "      border-color: transparent;\n",
              "      border-left-color: var(--fill-color);\n",
              "      border-top-color: var(--fill-color);\n",
              "      border-right-color: var(--fill-color);\n",
              "    }\n",
              "    40% {\n",
              "      border-color: transparent;\n",
              "      border-right-color: var(--fill-color);\n",
              "      border-top-color: var(--fill-color);\n",
              "    }\n",
              "    60% {\n",
              "      border-color: transparent;\n",
              "      border-right-color: var(--fill-color);\n",
              "    }\n",
              "    80% {\n",
              "      border-color: transparent;\n",
              "      border-right-color: var(--fill-color);\n",
              "      border-bottom-color: var(--fill-color);\n",
              "    }\n",
              "    90% {\n",
              "      border-color: transparent;\n",
              "      border-bottom-color: var(--fill-color);\n",
              "    }\n",
              "  }\n",
              "</style>\n",
              "\n",
              "  <script>\n",
              "    async function quickchart(key) {\n",
              "      const quickchartButtonEl =\n",
              "        document.querySelector('#' + key + ' button');\n",
              "      quickchartButtonEl.disabled = true;  // To prevent multiple clicks.\n",
              "      quickchartButtonEl.classList.add('colab-df-spinner');\n",
              "      try {\n",
              "        const charts = await google.colab.kernel.invokeFunction(\n",
              "            'suggestCharts', [key], {});\n",
              "      } catch (error) {\n",
              "        console.error('Error during call to suggestCharts:', error);\n",
              "      }\n",
              "      quickchartButtonEl.classList.remove('colab-df-spinner');\n",
              "      quickchartButtonEl.classList.add('colab-df-quickchart-complete');\n",
              "    }\n",
              "    (() => {\n",
              "      let quickchartButtonEl =\n",
              "        document.querySelector('#df-99a93362-c7d3-412e-8a46-2ac8b5d7699b button');\n",
              "      quickchartButtonEl.style.display =\n",
              "        google.colab.kernel.accessAllowed ? 'block' : 'none';\n",
              "    })();\n",
              "  </script>\n",
              "</div>\n",
              "\n",
              "    </div>\n",
              "  </div>\n"
            ],
            "application/vnd.google.colaboratory.intrinsic+json": {
              "type": "dataframe",
              "summary": "{\n  \"name\": \"data\",\n  \"rows\": 8,\n  \"fields\": [\n    {\n      \"column\": \"male\",\n      \"properties\": {\n        \"dtype\": \"number\",\n        \"std\": 1293.149848252188,\n        \"min\": 0.0,\n        \"max\": 3658.0,\n        \"num_unique_values\": 5,\n        \"samples\": [\n          0.4436850738108256,\n          1.0,\n          0.4968864296074966\n        ],\n        \"semantic_type\": \"\",\n        \"description\": \"\"\n      }\n    },\n    {\n      \"column\": \"age\",\n      \"properties\": {\n        \"dtype\": \"number\",\n        \"std\": 1277.9141265243472,\n        \"min\": 8.562029473575997,\n        \"max\": 3658.0,\n        \"num_unique_values\": 8,\n        \"samples\": [\n          49.55194095133953,\n          49.0,\n          3658.0\n        ],\n        \"semantic_type\": \"\",\n        \"description\": \"\"\n      }\n    },\n    {\n      \"column\": \"education\",\n      \"properties\": {\n        \"dtype\": \"number\",\n        \"std\": 1292.591485471566,\n        \"min\": 1.0,\n        \"max\": 3658.0,\n        \"num_unique_values\": 7,\n        \"samples\": [\n          3658.0,\n          1.9803171131765993,\n          3.0\n        ],\n        \"semantic_type\": \"\",\n        \"description\": \"\"\n      }\n    },\n    {\n      \"column\": \"currentSmoker\",\n      \"properties\": {\n        \"dtype\": \"number\",\n        \"std\": 1293.1474017860746,\n        \"min\": 0.0,\n        \"max\": 3658.0,\n        \"num_unique_values\": 5,\n        \"samples\": [\n          0.48906506287588847,\n          1.0,\n          0.49994875387232995\n        ],\n        \"semantic_type\": \"\",\n        \"description\": \"\"\n      }\n    },\n    {\n      \"column\": \"cigsPerDay\",\n      \"properties\": {\n        \"dtype\": \"number\",\n        \"std\": 1287.903467052186,\n        \"min\": 0.0,\n        \"max\": 3658.0,\n        \"num_unique_values\": 6,\n        \"samples\": [\n          3658.0,\n          9.025423728813559,\n          70.0\n        ],\n        \"semantic_type\": \"\",\n        \"description\": \"\"\n      }\n    },\n    {\n      \"column\": \"BPMeds\",\n      \"properties\": {\n        \"dtype\": \"number\",\n        \"std\": 1293.2376431242278,\n        \"min\": 0.0,\n        \"max\": 3658.0,\n        \"num_unique_values\": 5,\n        \"samples\": [\n          0.030344450519409514,\n          1.0,\n          0.17155672732285956\n        ],\n        \"semantic_type\": \"\",\n        \"description\": \"\"\n      }\n    },\n    {\n      \"column\": \"prevalentStroke\",\n      \"properties\": {\n        \"dtype\": \"number\",\n        \"std\": 1293.2437351300762,\n        \"min\": 0.0,\n        \"max\": 3658.0,\n        \"num_unique_values\": 5,\n        \"samples\": [\n          0.005740841990158557,\n          1.0,\n          0.07556087303691551\n        ],\n        \"semantic_type\": \"\",\n        \"description\": \"\"\n      }\n    },\n    {\n      \"column\": \"prevalentHyp\",\n      \"properties\": {\n        \"dtype\": \"number\",\n        \"std\": 1293.1582173710656,\n        \"min\": 0.0,\n        \"max\": 3658.0,\n        \"num_unique_values\": 5,\n        \"samples\": [\n          0.3116457080371788,\n          1.0,\n          0.4632292321633638\n        ],\n        \"semantic_type\": \"\",\n        \"description\": \"\"\n      }\n    },\n    {\n      \"column\": \"diabetes\",\n      \"properties\": {\n        \"dtype\": \"number\",\n        \"std\": 1293.238276805584,\n        \"min\": 0.0,\n        \"max\": 3658.0,\n        \"num_unique_values\": 5,\n        \"samples\": [\n          0.02706396938217605,\n          1.0,\n          0.16229205540395977\n        ],\n        \"semantic_type\": \"\",\n        \"description\": \"\"\n      }\n    },\n    {\n      \"column\": \"totChol\",\n      \"properties\": {\n        \"dtype\": \"number\",\n        \"std\": 1218.5298758002152,\n        \"min\": 44.09768095014866,\n        \"max\": 3658.0,\n        \"num_unique_values\": 8,\n        \"samples\": [\n          236.84773100054676,\n          234.0,\n          3658.0\n        ],\n        \"semantic_type\": \"\",\n        \"description\": \"\"\n      }\n    },\n    {\n      \"column\": \"sysBP\",\n      \"properties\": {\n        \"dtype\": \"number\",\n        \"std\": 1249.107448864766,\n        \"min\": 22.086865567312863,\n        \"max\": 3658.0,\n        \"num_unique_values\": 8,\n        \"samples\": [\n          132.37055768179334,\n          128.0,\n          3658.0\n        ],\n        \"semantic_type\": \"\",\n        \"description\": \"\"\n      }\n    },\n    {\n      \"column\": \"diaBP\",\n      \"properties\": {\n        \"dtype\": \"number\",\n        \"std\": 1266.9490615947084,\n        \"min\": 11.974257651761105,\n        \"max\": 3658.0,\n        \"num_unique_values\": 8,\n        \"samples\": [\n          82.9170311645708,\n          82.0,\n          3658.0\n        ],\n        \"semantic_type\": \"\",\n        \"description\": \"\"\n      }\n    },\n    {\n      \"column\": \"BMI\",\n      \"properties\": {\n        \"dtype\": \"number\",\n        \"std\": 1284.3595461376865,\n        \"min\": 4.06560063866396,\n        \"max\": 3658.0,\n        \"num_unique_values\": 8,\n        \"samples\": [\n          25.782802077638053,\n          25.38,\n          3658.0\n        ],\n        \"semantic_type\": \"\",\n        \"description\": \"\"\n      }\n    },\n    {\n      \"column\": \"heartRate\",\n      \"properties\": {\n        \"dtype\": \"number\",\n        \"std\": 1268.597611714075,\n        \"min\": 11.981525363310121,\n        \"max\": 3658.0,\n        \"num_unique_values\": 8,\n        \"samples\": [\n          75.73072717331875,\n          75.0,\n          3658.0\n        ],\n        \"semantic_type\": \"\",\n        \"description\": \"\"\n      }\n    },\n    {\n      \"column\": \"glucose\",\n      \"properties\": {\n        \"dtype\": \"number\",\n        \"std\": 1259.6195610491975,\n        \"min\": 23.904163736544447,\n        \"max\": 3658.0,\n        \"num_unique_values\": 8,\n        \"samples\": [\n          81.8529250956807,\n          78.0,\n          3658.0\n        ],\n        \"semantic_type\": \"\",\n        \"description\": \"\"\n      }\n    },\n    {\n      \"column\": \"TenYearCHD\",\n      \"properties\": {\n        \"dtype\": \"number\",\n        \"std\": 1293.2220010994554,\n        \"min\": 0.0,\n        \"max\": 3658.0,\n        \"num_unique_values\": 5,\n        \"samples\": [\n          0.15226899945325315,\n          1.0,\n          0.3593305564681878\n        ],\n        \"semantic_type\": \"\",\n        \"description\": \"\"\n      }\n    }\n  ]\n}"
            }
          },
          "metadata": {},
          "execution_count": 8
        }
      ]
    },
    {
      "cell_type": "markdown",
      "source": [
        "## Understand the Outcome of Interest"
      ],
      "metadata": {
        "id": "FJY3OFN66MmE"
      }
    },
    {
      "cell_type": "markdown",
      "metadata": {
        "id": "nEdNPzvUr-oC"
      },
      "source": [
        "Take a look at the outcome of interest: **TenYearCHD**. How many patients developed heart disease at the span of 10 years?\n"
      ]
    },
    {
      "cell_type": "code",
      "metadata": {
        "id": "I95TeXAHr6_G",
        "colab": {
          "base_uri": "https://localhost:8080/"
        },
        "outputId": "cd02b46d-384d-46e9-b5fc-1671250d3838"
      },
      "source": [
        "data['TenYearCHD'].value_counts()[1]"
      ],
      "execution_count": null,
      "outputs": [
        {
          "output_type": "execute_result",
          "data": {
            "text/plain": [
              "557"
            ]
          },
          "metadata": {},
          "execution_count": 9
        }
      ]
    },
    {
      "cell_type": "markdown",
      "source": [
        "Remember that for binary outcomes, you can directly get the relative prevalence ratio by calculating the mean."
      ],
      "metadata": {
        "id": "KnWDhT675fkl"
      }
    },
    {
      "cell_type": "code",
      "source": [
        "data['TenYearCHD'].mean()"
      ],
      "metadata": {
        "id": "zxa9Igb55YiN",
        "colab": {
          "base_uri": "https://localhost:8080/"
        },
        "outputId": "096eed9c-9a82-45ed-fb1f-77a0c1086595"
      },
      "execution_count": null,
      "outputs": [
        {
          "output_type": "execute_result",
          "data": {
            "text/plain": [
              "0.15226899945325315"
            ]
          },
          "metadata": {},
          "execution_count": 10
        }
      ]
    },
    {
      "cell_type": "markdown",
      "source": [
        "You can verify this by counting the number of rows in each group"
      ],
      "metadata": {
        "id": "2hZrG50R5saQ"
      }
    },
    {
      "cell_type": "code",
      "metadata": {
        "id": "PKGyiGFio2mu",
        "colab": {
          "base_uri": "https://localhost:8080/"
        },
        "outputId": "5a36de7c-a535-42b3-f2d1-9d5c41521c20"
      },
      "source": [
        "total_no_CHD = data['TenYearCHD'].value_counts()[0]/len(data['TenYearCHD']) * 100\n",
        "total_CHD = data['TenYearCHD'].value_counts()[1]/len(data['TenYearCHD']) * 100\n",
        "\n",
        "print('Participants with No CHD form', round(total_no_CHD, 2), '% of the dataset')\n",
        "print('Participants with CHD form', round(total_CHD,2) , '% of the dataset')"
      ],
      "execution_count": null,
      "outputs": [
        {
          "output_type": "stream",
          "name": "stdout",
          "text": [
            "Participants with No CHD form 84.77 % of the dataset\n",
            "Participants with CHD form 15.23 % of the dataset\n"
          ]
        }
      ]
    },
    {
      "cell_type": "markdown",
      "metadata": {
        "id": "u2uD1Ln9H-fQ"
      },
      "source": [
        "Graphical Exploration: We can also find this out with a figure.\n",
        "*Ask GenAI how to create this plot: \"How can I plot the distribution of a binary outcome in Python using a panda data frame?\"*"
      ]
    },
    {
      "cell_type": "code",
      "metadata": {
        "id": "dlLGrUFosTsF",
        "colab": {
          "base_uri": "https://localhost:8080/",
          "height": 512
        },
        "outputId": "d133fc7e-e268-4fb1-d35c-1bf86da9e379"
      },
      "source": [
        "sns.countplot(y='TenYearCHD', data=data)\n",
        "plt.title('Class Distributions \\n (0: No CHD || 1: CHD)', fontsize=11)"
      ],
      "execution_count": null,
      "outputs": [
        {
          "output_type": "execute_result",
          "data": {
            "text/plain": [
              "Text(0.5, 1.0, 'Class Distributions \\n (0: No CHD || 1: CHD)')"
            ]
          },
          "metadata": {},
          "execution_count": 12
        },
        {
          "output_type": "display_data",
          "data": {
            "text/plain": [
              "<Figure size 640x480 with 1 Axes>"
            ],
            "image/png": "[encoded data removed]"
          },
          "metadata": {}
        }
      ]
    },
    {
      "cell_type": "markdown",
      "metadata": {
        "id": "MCI5y0mngV-1"
      },
      "source": [
        "# Split the Data\n",
        "\n",
        "We're going to try to predict the dependent variable.\n",
        "Before we do so, let's split our data randomly into separate training and testing sets so we can test our model out-of-sample.\n"
      ]
    },
    {
      "cell_type": "code",
      "source": [
        "X = data.drop('TenYearCHD', axis=1)\n",
        "y = data['TenYearCHD']"
      ],
      "metadata": {
        "id": "nC3bAf7P9v9i"
      },
      "execution_count": null,
      "outputs": []
    },
    {
      "cell_type": "markdown",
      "source": [
        "## Remove Multi-Collinearity\n",
        "\n",
        "We will have to remove columns that are very correlated with each other. Let's create a matrix where we inspect the one to one correlation between all the features.\n",
        "\n"
      ],
      "metadata": {
        "id": "JujVu_3gV_S2"
      }
    },
    {
      "cell_type": "code",
      "source": [
        "X.corr()"
      ],
      "metadata": {
        "id": "2_LPfdOLWWvg",
        "colab": {
          "base_uri": "https://localhost:8080/",
          "height": 524
        },
        "outputId": "e8315baa-6cda-4790-eb16-904a538d004f"
      },
      "execution_count": null,
      "outputs": [
        {
          "output_type": "execute_result",
          "data": {
            "text/plain": [
              "                     male       age  education  currentSmoker  cigsPerDay  \\\n",
              "male             1.000000 -0.024412   0.017729       0.206114    0.330322   \n",
              "age             -0.024412  1.000000  -0.159499      -0.210771   -0.189295   \n",
              "education        0.017729 -0.159499   1.000000       0.025251    0.013790   \n",
              "currentSmoker    0.206114 -0.210771   0.025251       1.000000    0.773913   \n",
              "cigsPerDay       0.330322 -0.189295   0.013790       0.773913    1.000000   \n",
              "BPMeds          -0.052124  0.134732  -0.013739      -0.051923   -0.046504   \n",
              "prevalentStroke -0.002312  0.050893  -0.030386      -0.038150   -0.036286   \n",
              "prevalentHyp     0.001424  0.306239  -0.078828      -0.108078   -0.070460   \n",
              "diabetes         0.013819  0.109092  -0.039627      -0.041849   -0.036961   \n",
              "totChol         -0.070321  0.268252  -0.013522      -0.051034   -0.030400   \n",
              "sysBP           -0.045358  0.388267  -0.124360      -0.134428   -0.094781   \n",
              "diaBP            0.051872  0.208283  -0.058059      -0.115955   -0.056746   \n",
              "BMI              0.073111  0.137511  -0.137555      -0.159821   -0.087395   \n",
              "heartRate       -0.115285 -0.002722  -0.064214       0.050841    0.064030   \n",
              "glucose          0.002940  0.118349  -0.031998      -0.053242   -0.053726   \n",
              "\n",
              "                   BPMeds  prevalentStroke  prevalentHyp  diabetes   totChol  \\\n",
              "male            -0.052124        -0.002312      0.001424  0.013819 -0.070321   \n",
              "age              0.134732         0.050893      0.306239  0.109092  0.268252   \n",
              "education       -0.013739        -0.030386     -0.078828 -0.039627 -0.013522   \n",
              "currentSmoker   -0.051923        -0.038150     -0.108078 -0.041849 -0.051034   \n",
              "cigsPerDay      -0.046504        -0.036286     -0.070460 -0.036961 -0.030400   \n",
              "BPMeds           1.000000         0.113125      0.262910  0.049066  0.094083   \n",
              "prevalentStroke  0.113125         1.000000      0.066057  0.009625  0.012736   \n",
              "prevalentHyp     0.262910         0.066057      1.000000  0.080556  0.166655   \n",
              "diabetes         0.049066         0.009625      0.080556  1.000000  0.048451   \n",
              "totChol          0.094083         0.012736      0.166655  0.048451  1.000000   \n",
              "sysBP            0.271263         0.061070      0.697675  0.102552  0.219925   \n",
              "diaBP            0.199630         0.055834      0.617734  0.050686  0.174422   \n",
              "BMI              0.105642         0.036496      0.302949  0.089009  0.121056   \n",
              "heartRate        0.012889        -0.017019      0.146818  0.060984  0.093053   \n",
              "glucose          0.054232         0.016061      0.086942  0.614820  0.049884   \n",
              "\n",
              "                    sysBP     diaBP       BMI  heartRate   glucose  \n",
              "male            -0.045358  0.051872  0.073111  -0.115285  0.002940  \n",
              "age              0.388267  0.208283  0.137511  -0.002722  0.118349  \n",
              "education       -0.124360 -0.058059 -0.137555  -0.064214 -0.031998  \n",
              "currentSmoker   -0.134428 -0.115955 -0.159821   0.050841 -0.053242  \n",
              "cigsPerDay      -0.094781 -0.056746 -0.087395   0.064030 -0.053726  \n",
              "BPMeds           0.271263  0.199630  0.105642   0.012889  0.054232  \n",
              "prevalentStroke  0.061070  0.055834  0.036496  -0.017019  0.016061  \n",
              "prevalentHyp     0.697675  0.617734  0.302949   0.146818  0.086942  \n",
              "diabetes         0.102552  0.050686  0.089009   0.060984  0.614820  \n",
              "totChol          0.219925  0.174422  0.121056   0.093053  0.049884  \n",
              "sysBP            1.000000  0.786669  0.330917   0.184797  0.134651  \n",
              "diaBP            0.786669  1.000000  0.385348   0.178744  0.063540  \n",
              "BMI              0.330917  0.385348  1.000000   0.074131  0.083683  \n",
              "heartRate        0.184797  0.178744  0.074131   1.000000  0.097074  \n",
              "glucose          0.134651  0.063540  0.083683   0.097074  1.000000  "
            ],
            "text/html": [
              "\n",
              "  <div id=\"df-0e60524d-167c-433f-82c3-c749c87041ae\" class=\"colab-df-container\">\n",
              "    <div>\n",
              "<style scoped>\n",
              "    .dataframe tbody tr th:only-of-type {\n",
              "        vertical-align: middle;\n",
              "    }\n",
              "\n",
              "    .dataframe tbody tr th {\n",
              "        vertical-align: top;\n",
              "    }\n",
              "\n",
              "    .dataframe thead th {\n",
              "        text-align: right;\n",
              "    }\n",
              "</style>\n",
              "<table border=\"1\" class=\"dataframe\">\n",
              "  <thead>\n",
              "    <tr style=\"text-align: right;\">\n",
              "      <th></th>\n",
              "      <th>male</th>\n",
              "      <th>age</th>\n",
              "      <th>education</th>\n",
              "      <th>currentSmoker</th>\n",
              "      <th>cigsPerDay</th>\n",
              "      <th>BPMeds</th>\n",
              "      <th>prevalentStroke</th>\n",
              "      <th>prevalentHyp</th>\n",
              "      <th>diabetes</th>\n",
              "      <th>totChol</th>\n",
              "      <th>sysBP</th>\n",
              "      <th>diaBP</th>\n",
              "      <th>BMI</th>\n",
              "      <th>heartRate</th>\n",
              "      <th>glucose</th>\n",
              "    </tr>\n",
              "  </thead>\n",
              "  <tbody>\n",
              "    <tr>\n",
              "      <th>male</th>\n",
              "      <td>1.000000</td>\n",
              "      <td>-0.024412</td>\n",
              "      <td>0.017729</td>\n",
              "      <td>0.206114</td>\n",
              "      <td>0.330322</td>\n",
              "      <td>-0.052124</td>\n",
              "      <td>-0.002312</td>\n",
              "      <td>0.001424</td>\n",
              "      <td>0.013819</td>\n",
              "      <td>-0.070321</td>\n",
              "      <td>-0.045358</td>\n",
              "      <td>0.051872</td>\n",
              "      <td>0.073111</td>\n",
              "      <td>-0.115285</td>\n",
              "      <td>0.002940</td>\n",
              "    </tr>\n",
              "    <tr>\n",
              "      <th>age</th>\n",
              "      <td>-0.024412</td>\n",
              "      <td>1.000000</td>\n",
              "      <td>-0.159499</td>\n",
              "      <td>-0.210771</td>\n",
              "      <td>-0.189295</td>\n",
              "      <td>0.134732</td>\n",
              "      <td>0.050893</td>\n",
              "      <td>0.306239</td>\n",
              "      <td>0.109092</td>\n",
              "      <td>0.268252</td>\n",
              "      <td>0.388267</td>\n",
              "      <td>0.208283</td>\n",
              "      <td>0.137511</td>\n",
              "      <td>-0.002722</td>\n",
              "      <td>0.118349</td>\n",
              "    </tr>\n",
              "    <tr>\n",
              "      <th>education</th>\n",
              "      <td>0.017729</td>\n",
              "      <td>-0.159499</td>\n",
              "      <td>1.000000</td>\n",
              "      <td>0.025251</td>\n",
              "      <td>0.013790</td>\n",
              "      <td>-0.013739</td>\n",
              "      <td>-0.030386</td>\n",
              "      <td>-0.078828</td>\n",
              "      <td>-0.039627</td>\n",
              "      <td>-0.013522</td>\n",
              "      <td>-0.124360</td>\n",
              "      <td>-0.058059</td>\n",
              "      <td>-0.137555</td>\n",
              "      <td>-0.064214</td>\n",
              "      <td>-0.031998</td>\n",
              "    </tr>\n",
              "    <tr>\n",
              "      <th>currentSmoker</th>\n",
              "      <td>0.206114</td>\n",
              "      <td>-0.210771</td>\n",
              "      <td>0.025251</td>\n",
              "      <td>1.000000</td>\n",
              "      <td>0.773913</td>\n",
              "      <td>-0.051923</td>\n",
              "      <td>-0.038150</td>\n",
              "      <td>-0.108078</td>\n",
              "      <td>-0.041849</td>\n",
              "      <td>-0.051034</td>\n",
              "      <td>-0.134428</td>\n",
              "      <td>-0.115955</td>\n",
              "      <td>-0.159821</td>\n",
              "      <td>0.050841</td>\n",
              "      <td>-0.053242</td>\n",
              "    </tr>\n",
              "    <tr>\n",
              "      <th>cigsPerDay</th>\n",
              "      <td>0.330322</td>\n",
              "      <td>-0.189295</td>\n",
              "      <td>0.013790</td>\n",
              "      <td>0.773913</td>\n",
              "      <td>1.000000</td>\n",
              "      <td>-0.046504</td>\n",
              "      <td>-0.036286</td>\n",
              "      <td>-0.070460</td>\n",
              "      <td>-0.036961</td>\n",
              "      <td>-0.030400</td>\n",
              "      <td>-0.094781</td>\n",
              "      <td>-0.056746</td>\n",
              "      <td>-0.087395</td>\n",
              "      <td>0.064030</td>\n",
              "      <td>-0.053726</td>\n",
              "    </tr>\n",
              "    <tr>\n",
              "      <th>BPMeds</th>\n",
              "      <td>-0.052124</td>\n",
              "      <td>0.134732</td>\n",
              "      <td>-0.013739</td>\n",
              "      <td>-0.051923</td>\n",
              "      <td>-0.046504</td>\n",
              "      <td>1.000000</td>\n",
              "      <td>0.113125</td>\n",
              "      <td>0.262910</td>\n",
              "      <td>0.049066</td>\n",
              "      <td>0.094083</td>\n",
              "      <td>0.271263</td>\n",
              "      <td>0.199630</td>\n",
              "      <td>0.105642</td>\n",
              "      <td>0.012889</td>\n",
              "      <td>0.054232</td>\n",
              "    </tr>\n",
              "    <tr>\n",
              "      <th>prevalentStroke</th>\n",
              "      <td>-0.002312</td>\n",
              "      <td>0.050893</td>\n",
              "      <td>-0.030386</td>\n",
              "      <td>-0.038150</td>\n",
              "      <td>-0.036286</td>\n",
              "      <td>0.113125</td>\n",
              "      <td>1.000000</td>\n",
              "      <td>0.066057</td>\n",
              "      <td>0.009625</td>\n",
              "      <td>0.012736</td>\n",
              "      <td>0.061070</td>\n",
              "      <td>0.055834</td>\n",
              "      <td>0.036496</td>\n",
              "      <td>-0.017019</td>\n",
              "      <td>0.016061</td>\n",
              "    </tr>\n",
              "    <tr>\n",
              "      <th>prevalentHyp</th>\n",
              "      <td>0.001424</td>\n",
              "      <td>0.306239</td>\n",
              "      <td>-0.078828</td>\n",
              "      <td>-0.108078</td>\n",
              "      <td>-0.070460</td>\n",
              "      <td>0.262910</td>\n",
              "      <td>0.066057</td>\n",
              "      <td>1.000000</td>\n",
              "      <td>0.080556</td>\n",
              "      <td>0.166655</td>\n",
              "      <td>0.697675</td>\n",
              "      <td>0.617734</td>\n",
              "      <td>0.302949</td>\n",
              "      <td>0.146818</td>\n",
              "      <td>0.086942</td>\n",
              "    </tr>\n",
              "    <tr>\n",
              "      <th>diabetes</th>\n",
              "      <td>0.013819</td>\n",
              "      <td>0.109092</td>\n",
              "      <td>-0.039627</td>\n",
              "      <td>-0.041849</td>\n",
              "      <td>-0.036961</td>\n",
              "      <td>0.049066</td>\n",
              "      <td>0.009625</td>\n",
              "      <td>0.080556</td>\n",
              "      <td>1.000000</td>\n",
              "      <td>0.048451</td>\n",
              "      <td>0.102552</td>\n",
              "      <td>0.050686</td>\n",
              "      <td>0.089009</td>\n",
              "      <td>0.060984</td>\n",
              "      <td>0.614820</td>\n",
              "    </tr>\n",
              "    <tr>\n",
              "      <th>totChol</th>\n",
              "      <td>-0.070321</td>\n",
              "      <td>0.268252</td>\n",
              "      <td>-0.013522</td>\n",
              "      <td>-0.051034</td>\n",
              "      <td>-0.030400</td>\n",
              "      <td>0.094083</td>\n",
              "      <td>0.012736</td>\n",
              "      <td>0.166655</td>\n",
              "      <td>0.048451</td>\n",
              "      <td>1.000000</td>\n",
              "      <td>0.219925</td>\n",
              "      <td>0.174422</td>\n",
              "      <td>0.121056</td>\n",
              "      <td>0.093053</td>\n",
              "      <td>0.049884</td>\n",
              "    </tr>\n",
              "    <tr>\n",
              "      <th>sysBP</th>\n",
              "      <td>-0.045358</td>\n",
              "      <td>0.388267</td>\n",
              "      <td>-0.124360</td>\n",
              "      <td>-0.134428</td>\n",
              "      <td>-0.094781</td>\n",
              "      <td>0.271263</td>\n",
              "      <td>0.061070</td>\n",
              "      <td>0.697675</td>\n",
              "      <td>0.102552</td>\n",
              "      <td>0.219925</td>\n",
              "      <td>1.000000</td>\n",
              "      <td>0.786669</td>\n",
              "      <td>0.330917</td>\n",
              "      <td>0.184797</td>\n",
              "      <td>0.134651</td>\n",
              "    </tr>\n",
              "    <tr>\n",
              "      <th>diaBP</th>\n",
              "      <td>0.051872</td>\n",
              "      <td>0.208283</td>\n",
              "      <td>-0.058059</td>\n",
              "      <td>-0.115955</td>\n",
              "      <td>-0.056746</td>\n",
              "      <td>0.199630</td>\n",
              "      <td>0.055834</td>\n",
              "      <td>0.617734</td>\n",
              "      <td>0.050686</td>\n",
              "      <td>0.174422</td>\n",
              "      <td>0.786669</td>\n",
              "      <td>1.000000</td>\n",
              "      <td>0.385348</td>\n",
              "      <td>0.178744</td>\n",
              "      <td>0.063540</td>\n",
              "    </tr>\n",
              "    <tr>\n",
              "      <th>BMI</th>\n",
              "      <td>0.073111</td>\n",
              "      <td>0.137511</td>\n",
              "      <td>-0.137555</td>\n",
              "      <td>-0.159821</td>\n",
              "      <td>-0.087395</td>\n",
              "      <td>0.105642</td>\n",
              "      <td>0.036496</td>\n",
              "      <td>0.302949</td>\n",
              "      <td>0.089009</td>\n",
              "      <td>0.121056</td>\n",
              "      <td>0.330917</td>\n",
              "      <td>0.385348</td>\n",
              "      <td>1.000000</td>\n",
              "      <td>0.074131</td>\n",
              "      <td>0.083683</td>\n",
              "    </tr>\n",
              "    <tr>\n",
              "      <th>heartRate</th>\n",
              "      <td>-0.115285</td>\n",
              "      <td>-0.002722</td>\n",
              "      <td>-0.064214</td>\n",
              "      <td>0.050841</td>\n",
              "      <td>0.064030</td>\n",
              "      <td>0.012889</td>\n",
              "      <td>-0.017019</td>\n",
              "      <td>0.146818</td>\n",
              "      <td>0.060984</td>\n",
              "      <td>0.093053</td>\n",
              "      <td>0.184797</td>\n",
              "      <td>0.178744</td>\n",
              "      <td>0.074131</td>\n",
              "      <td>1.000000</td>\n",
              "      <td>0.097074</td>\n",
              "    </tr>\n",
              "    <tr>\n",
              "      <th>glucose</th>\n",
              "      <td>0.002940</td>\n",
              "      <td>0.118349</td>\n",
              "      <td>-0.031998</td>\n",
              "      <td>-0.053242</td>\n",
              "      <td>-0.053726</td>\n",
              "      <td>0.054232</td>\n",
              "      <td>0.016061</td>\n",
              "      <td>0.086942</td>\n",
              "      <td>0.614820</td>\n",
              "      <td>0.049884</td>\n",
              "      <td>0.134651</td>\n",
              "      <td>0.063540</td>\n",
              "      <td>0.083683</td>\n",
              "      <td>0.097074</td>\n",
              "      <td>1.000000</td>\n",
              "    </tr>\n",
              "  </tbody>\n",
              "</table>\n",
              "</div>\n",
              "    <div class=\"colab-df-buttons\">\n",
              "\n",
              "  <div class=\"colab-df-container\">\n",
              "    <button class=\"colab-df-convert\" onclick=\"convertToInteractive('df-0e60524d-167c-433f-82c3-c749c87041ae')\"\n",
              "            title=\"Convert this dataframe to an interactive table.\"\n",
              "            style=\"display:none;\">\n",
              "\n",
              "  <svg xmlns=\"http://www.w3.org/2000/svg\" height=\"24px\" viewBox=\"0 -960 960 960\">\n",
              "    <path d=\"M120-120v-720h720v720H120Zm60-500h600v-160H180v160Zm220 220h160v-160H400v160Zm0 220h160v-160H400v160ZM180-400h160v-160H180v160Zm440 0h160v-160H620v160ZM180-180h160v-160H180v160Zm440 0h160v-160H620v160Z\"/>\n",
              "  </svg>\n",
              "    </button>\n",
              "\n",
              "  <style>\n",
              "    .colab-df-container {\n",
              "      display:flex;\n",
              "      gap: 12px;\n",
              "    }\n",
              "\n",
              "    .colab-df-convert {\n",
              "      background-color: #E8F0FE;\n",
              "      border: none;\n",
              "      border-radius: 50%;\n",
              "      cursor: pointer;\n",
              "      display: none;\n",
              "      fill: #1967D2;\n",
              "      height: 32px;\n",
              "      padding: 0 0 0 0;\n",
              "      width: 32px;\n",
              "    }\n",
              "\n",
              "    .colab-df-convert:hover {\n",
              "      background-color: #E2EBFA;\n",
              "      box-shadow: 0px 1px 2px rgba(60, 64, 67, 0.3), 0px 1px 3px 1px rgba(60, 64, 67, 0.15);\n",
              "      fill: #174EA6;\n",
              "    }\n",
              "\n",
              "    .colab-df-buttons div {\n",
              "      margin-bottom: 4px;\n",
              "    }\n",
              "\n",
              "    [theme=dark] .colab-df-convert {\n",
              "      background-color: #3B4455;\n",
              "      fill: #D2E3FC;\n",
              "    }\n",
              "\n",
              "    [theme=dark] .colab-df-convert:hover {\n",
              "      background-color: #434B5C;\n",
              "      box-shadow: 0px 1px 3px 1px rgba(0, 0, 0, 0.15);\n",
              "      filter: drop-shadow(0px 1px 2px rgba(0, 0, 0, 0.3));\n",
              "      fill: #FFFFFF;\n",
              "    }\n",
              "  </style>\n",
              "\n",
              "    <script>\n",
              "      const buttonEl =\n",
              "        document.querySelector('#df-0e60524d-167c-433f-82c3-c749c87041ae button.colab-df-convert');\n",
              "      buttonEl.style.display =\n",
              "        google.colab.kernel.accessAllowed ? 'block' : 'none';\n",
              "\n",
              "      async function convertToInteractive(key) {\n",
              "        const element = document.querySelector('#df-0e60524d-167c-433f-82c3-c749c87041ae');\n",
              "        const dataTable =\n",
              "          await google.colab.kernel.invokeFunction('convertToInteractive',\n",
              "                                                    [key], {});\n",
              "        if (!dataTable) return;\n",
              "\n",
              "        const docLinkHtml = 'Like what you see? Visit the ' +\n",
              "          '<a target=\"_blank\" href=https://colab.research.google.com/notebooks/data_table.ipynb>data table notebook</a>'\n",
              "          + ' to learn more about interactive tables.';\n",
              "        element.innerHTML = '';\n",
              "        dataTable['output_type'] = 'display_data';\n",
              "        await google.colab.output.renderOutput(dataTable, element);\n",
              "        const docLink = document.createElement('div');\n",
              "        docLink.innerHTML = docLinkHtml;\n",
              "        element.appendChild(docLink);\n",
              "      }\n",
              "    </script>\n",
              "  </div>\n",
              "\n",
              "\n",
              "<div id=\"df-39bc8193-d51e-474b-95ee-7904faf634a6\">\n",
              "  <button class=\"colab-df-quickchart\" onclick=\"quickchart('df-39bc8193-d51e-474b-95ee-7904faf634a6')\"\n",
              "            title=\"Suggest charts\"\n",
              "            style=\"display:none;\">\n",
              "\n",
              "<svg xmlns=\"http://www.w3.org/2000/svg\" height=\"24px\"viewBox=\"0 0 24 24\"\n",
              "     width=\"24px\">\n",
              "    <g>\n",
              "        <path d=\"M19 3H5c-1.1 0-2 .9-2 2v14c0 1.1.9 2 2 2h14c1.1 0 2-.9 2-2V5c0-1.1-.9-2-2-2zM9 17H7v-7h2v7zm4 0h-2V7h2v10zm4 0h-2v-4h2v4z\"/>\n",
              "    </g>\n",
              "</svg>\n",
              "  </button>\n",
              "\n",
              "<style>\n",
              "  .colab-df-quickchart {\n",
              "      --bg-color: #E8F0FE;\n",
              "      --fill-color: #1967D2;\n",
              "      --hover-bg-color: #E2EBFA;\n",
              "      --hover-fill-color: #174EA6;\n",
              "      --disabled-fill-color: #AAA;\n",
              "      --disabled-bg-color: #DDD;\n",
              "  }\n",
              "\n",
              "  [theme=dark] .colab-df-quickchart {\n",
              "      --bg-color: #3B4455;\n",
              "      --fill-color: #D2E3FC;\n",
              "      --hover-bg-color: #434B5C;\n",
              "      --hover-fill-color: #FFFFFF;\n",
              "      --disabled-bg-color: #3B4455;\n",
              "      --disabled-fill-color: #666;\n",
              "  }\n",
              "\n",
              "  .colab-df-quickchart {\n",
              "    background-color: var(--bg-color);\n",
              "    border: none;\n",
              "    border-radius: 50%;\n",
              "    cursor: pointer;\n",
              "    display: none;\n",
              "    fill: var(--fill-color);\n",
              "    height: 32px;\n",
              "    padding: 0;\n",
              "    width: 32px;\n",
              "  }\n",
              "\n",
              "  .colab-df-quickchart:hover {\n",
              "    background-color: var(--hover-bg-color);\n",
              "    box-shadow: 0 1px 2px rgba(60, 64, 67, 0.3), 0 1px 3px 1px rgba(60, 64, 67, 0.15);\n",
              "    fill: var(--button-hover-fill-color);\n",
              "  }\n",
              "\n",
              "  .colab-df-quickchart-complete:disabled,\n",
              "  .colab-df-quickchart-complete:disabled:hover {\n",
              "    background-color: var(--disabled-bg-color);\n",
              "    fill: var(--disabled-fill-color);\n",
              "    box-shadow: none;\n",
              "  }\n",
              "\n",
              "  .colab-df-spinner {\n",
              "    border: 2px solid var(--fill-color);\n",
              "    border-color: transparent;\n",
              "    border-bottom-color: var(--fill-color);\n",
              "    animation:\n",
              "      spin 1s steps(1) infinite;\n",
              "  }\n",
              "\n",
              "  @keyframes spin {\n",
              "    0% {\n",
              "      border-color: transparent;\n",
              "      border-bottom-color: var(--fill-color);\n",
              "      border-left-color: var(--fill-color);\n",
              "    }\n",
              "    20% {\n",
              "      border-color: transparent;\n",
              "      border-left-color: var(--fill-color);\n",
              "      border-top-color: var(--fill-color);\n",
              "    }\n",
              "    30% {\n",
              "      border-color: transparent;\n",
              "      border-left-color: var(--fill-color);\n",
              "      border-top-color: var(--fill-color);\n",
              "      border-right-color: var(--fill-color);\n",
              "    }\n",
              "    40% {\n",
              "      border-color: transparent;\n",
              "      border-right-color: var(--fill-color);\n",
              "      border-top-color: var(--fill-color);\n",
              "    }\n",
              "    60% {\n",
              "      border-color: transparent;\n",
              "      border-right-color: var(--fill-color);\n",
              "    }\n",
              "    80% {\n",
              "      border-color: transparent;\n",
              "      border-right-color: var(--fill-color);\n",
              "      border-bottom-color: var(--fill-color);\n",
              "    }\n",
              "    90% {\n",
              "      border-color: transparent;\n",
              "      border-bottom-color: var(--fill-color);\n",
              "    }\n",
              "  }\n",
              "</style>\n",
              "\n",
              "  <script>\n",
              "    async function quickchart(key) {\n",
              "      const quickchartButtonEl =\n",
              "        document.querySelector('#' + key + ' button');\n",
              "      quickchartButtonEl.disabled = true;  // To prevent multiple clicks.\n",
              "      quickchartButtonEl.classList.add('colab-df-spinner');\n",
              "      try {\n",
              "        const charts = await google.colab.kernel.invokeFunction(\n",
              "            'suggestCharts', [key], {});\n",
              "      } catch (error) {\n",
              "        console.error('Error during call to suggestCharts:', error);\n",
              "      }\n",
              "      quickchartButtonEl.classList.remove('colab-df-spinner');\n",
              "      quickchartButtonEl.classList.add('colab-df-quickchart-complete');\n",
              "    }\n",
              "    (() => {\n",
              "      let quickchartButtonEl =\n",
              "        document.querySelector('#df-39bc8193-d51e-474b-95ee-7904faf634a6 button');\n",
              "      quickchartButtonEl.style.display =\n",
              "        google.colab.kernel.accessAllowed ? 'block' : 'none';\n",
              "    })();\n",
              "  </script>\n",
              "</div>\n",
              "\n",
              "    </div>\n",
              "  </div>\n"
            ],
            "application/vnd.google.colaboratory.intrinsic+json": {
              "type": "dataframe",
              "summary": "{\n  \"name\": \"X\",\n  \"rows\": 15,\n  \"fields\": [\n    {\n      \"column\": \"male\",\n      \"properties\": {\n        \"dtype\": \"number\",\n        \"std\": 0.27456612150481374,\n        \"min\": -0.115285412529432,\n        \"max\": 1.0,\n        \"num_unique_values\": 15,\n        \"samples\": [\n          -0.07032113220095841,\n          0.05187186117076351,\n          1.0\n        ],\n        \"semantic_type\": \"\",\n        \"description\": \"\"\n      }\n    },\n    {\n      \"column\": \"age\",\n      \"properties\": {\n        \"dtype\": \"number\",\n        \"std\": 0.29615094084623705,\n        \"min\": -0.21077094584577488,\n        \"max\": 1.0,\n        \"num_unique_values\": 15,\n        \"samples\": [\n          0.26825160462610104,\n          0.20828287593765654,\n          -0.02441160494783598\n        ],\n        \"semantic_type\": \"\",\n        \"description\": \"\"\n      }\n    },\n    {\n      \"column\": \"education\",\n      \"properties\": {\n        \"dtype\": \"number\",\n        \"std\": 0.2767624946586111,\n        \"min\": -0.15949855562161913,\n        \"max\": 1.0,\n        \"num_unique_values\": 15,\n        \"samples\": [\n          -0.013521580625972265,\n          -0.05805850515986932,\n          0.017728914621251014\n        ],\n        \"semantic_type\": \"\",\n        \"description\": \"\"\n      }\n    },\n    {\n      \"column\": \"currentSmoker\",\n      \"properties\": {\n        \"dtype\": \"number\",\n        \"std\": 0.34742118439134184,\n        \"min\": -0.21077094584577488,\n        \"max\": 1.0,\n        \"num_unique_values\": 15,\n        \"samples\": [\n          -0.05103409819451491,\n          -0.11595510696970975,\n          0.20611434397648173\n        ],\n        \"semantic_type\": \"\",\n        \"description\": \"\"\n      }\n    },\n    {\n      \"column\": \"cigsPerDay\",\n      \"properties\": {\n        \"dtype\": \"number\",\n        \"std\": 0.34181356691851345,\n        \"min\": -0.18929528074494845,\n        \"max\": 1.0,\n        \"num_unique_values\": 15,\n        \"samples\": [\n          -0.030400357242151337,\n          -0.05674567587851083,\n          0.33032245122471543\n        ],\n        \"semantic_type\": \"\",\n        \"description\": \"\"\n      }\n    },\n    {\n      \"column\": \"BPMeds\",\n      \"properties\": {\n        \"dtype\": \"number\",\n        \"std\": 0.25958832654625913,\n        \"min\": -0.0521240249425505,\n        \"max\": 1.0,\n        \"num_unique_values\": 15,\n        \"samples\": [\n          0.09408260403020177,\n          0.19963001639167313,\n          -0.0521240249425505\n        ],\n        \"semantic_type\": \"\",\n        \"description\": \"\"\n      }\n    },\n    {\n      \"column\": \"prevalentStroke\",\n      \"properties\": {\n        \"dtype\": \"number\",\n        \"std\": 0.2563698007285933,\n        \"min\": -0.03814989829276174,\n        \"max\": 1.0,\n        \"num_unique_values\": 15,\n        \"samples\": [\n          0.012736422566914755,\n          0.05583363807815074,\n          -0.0023115828044592275\n        ],\n        \"semantic_type\": \"\",\n        \"description\": \"\"\n      }\n    },\n    {\n      \"column\": \"prevalentHyp\",\n      \"properties\": {\n        \"dtype\": \"number\",\n        \"std\": 0.31700865369327946,\n        \"min\": -0.10807788752485674,\n        \"max\": 1.0,\n        \"num_unique_values\": 15,\n        \"samples\": [\n          0.16665496758034812,\n          0.617734435544897,\n          0.0014244488931503495\n        ],\n        \"semantic_type\": \"\",\n        \"description\": \"\"\n      }\n    },\n    {\n      \"column\": \"diabetes\",\n      \"properties\": {\n        \"dtype\": \"number\",\n        \"std\": 0.2846023044504867,\n        \"min\": -0.04184893419529038,\n        \"max\": 1.0,\n        \"num_unique_values\": 15,\n        \"samples\": [\n          0.0484514570973264,\n          0.05068619214308372,\n          0.01381870015739131\n        ],\n        \"semantic_type\": \"\",\n        \"description\": \"\"\n      }\n    },\n    {\n      \"column\": \"totChol\",\n      \"properties\": {\n        \"dtype\": \"number\",\n        \"std\": 0.25843159866207654,\n        \"min\": -0.07032113220095841,\n        \"max\": 1.0,\n        \"num_unique_values\": 15,\n        \"samples\": [\n          1.0,\n          0.1744219728121562,\n          -0.07032113220095841\n        ],\n        \"semantic_type\": \"\",\n        \"description\": \"\"\n      }\n    },\n    {\n      \"column\": \"sysBP\",\n      \"properties\": {\n        \"dtype\": \"number\",\n        \"std\": 0.3429833691758031,\n        \"min\": -0.13442793240942588,\n        \"max\": 1.0,\n        \"num_unique_values\": 15,\n        \"samples\": [\n          0.21992458755279565,\n          0.7866693577239627,\n          -0.04535803682864046\n        ],\n        \"semantic_type\": \"\",\n        \"description\": \"\"\n      }\n    },\n    {\n      \"column\": \"diaBP\",\n      \"properties\": {\n        \"dtype\": \"number\",\n        \"std\": 0.3263005883615065,\n        \"min\": -0.11595510696970975,\n        \"max\": 1.0,\n        \"num_unique_values\": 15,\n        \"samples\": [\n          0.1744219728121562,\n          1.0,\n          0.05187186117076351\n        ],\n        \"semantic_type\": \"\",\n        \"description\": \"\"\n      }\n    },\n    {\n      \"column\": \"BMI\",\n      \"properties\": {\n        \"dtype\": \"number\",\n        \"std\": 0.28080759587281656,\n        \"min\": -0.1598214362099733,\n        \"max\": 1.0,\n        \"num_unique_values\": 15,\n        \"samples\": [\n          0.12105645381973523,\n          0.38534762383219384,\n          0.07311142323086686\n        ],\n        \"semantic_type\": \"\",\n        \"description\": \"\"\n      }\n    },\n    {\n      \"column\": \"heartRate\",\n      \"properties\": {\n        \"dtype\": \"number\",\n        \"std\": 0.258019757177952,\n        \"min\": -0.115285412529432,\n        \"max\": 1.0,\n        \"num_unique_values\": 15,\n        \"samples\": [\n          0.093052844743672,\n          0.17874358560311507,\n          -0.115285412529432\n        ],\n        \"semantic_type\": \"\",\n        \"description\": \"\"\n      }\n    },\n    {\n      \"column\": \"glucose\",\n      \"properties\": {\n        \"dtype\": \"number\",\n        \"std\": 0.28445994138108593,\n        \"min\": -0.05372643299529955,\n        \"max\": 1.0,\n        \"num_unique_values\": 15,\n        \"samples\": [\n          0.04988445100462984,\n          0.06354022265430326,\n          0.002939977354781708\n        ],\n        \"semantic_type\": \"\",\n        \"description\": \"\"\n      }\n    }\n  ]\n}"
            }
          },
          "metadata": {},
          "execution_count": 14
        }
      ]
    },
    {
      "cell_type": "markdown",
      "source": [
        "This might be hard to process. Let's use a heatmap instead.\n",
        "\n",
        "*If this code is too complex, ask GenAI to explain it to you by copy-pasting and asking for a description.*"
      ],
      "metadata": {
        "id": "Fbgi3mKxWnFx"
      }
    },
    {
      "cell_type": "code",
      "source": [
        "f, ax = plt.subplots(figsize=(10, 8))\n",
        "corr = X.corr()\n",
        "sns.heatmap(corr, mask=np.zeros_like(corr, dtype=bool), cmap=sns.diverging_palette(220, 10, as_cmap=True),\n",
        "            square=True, ax=ax)"
      ],
      "metadata": {
        "id": "kgy0yGSoWt-9",
        "colab": {
          "base_uri": "https://localhost:8080/",
          "height": 810
        },
        "outputId": "ce637156-9c6d-4941-a698-ca5bf33fa845"
      },
      "execution_count": null,
      "outputs": [
        {
          "output_type": "execute_result",
          "data": {
            "text/plain": [
              "<Axes: >"
            ]
          },
          "metadata": {},
          "execution_count": 15
        },
        {
          "output_type": "display_data",
          "data": {
            "text/plain": [
              "<Figure size 1000x800 with 2 Axes>"
            ],
            "image/png": "[encoded data removed]"
          },
          "metadata": {}
        }
      ]
    },
    {
      "cell_type": "markdown",
      "source": [
        "We note that the following couples of variables are highly correlated:\n",
        "*   Current Smoker and Number of Cigarettes\n",
        "*   Glucose and diabetes;\n",
        "*   Systolic and Diastolic Blood Pressure;\n",
        "\n",
        "We will remove cigsPerDay, glucose, and diaBP."
      ],
      "metadata": {
        "id": "dZPwIUCpXZ5n"
      }
    },
    {
      "cell_type": "code",
      "source": [
        "X.drop(['cigsPerDay', 'glucose', 'diaBP'], axis=1, inplace=True)"
      ],
      "metadata": {
        "id": "iKHT5xmwYV0z"
      },
      "execution_count": null,
      "outputs": []
    },
    {
      "cell_type": "markdown",
      "metadata": {
        "id": "VTlHIJbggkTX"
      },
      "source": [
        "### Managing the randomness\n",
        "\n",
        "Each time you are randomly splitting your data the computer uses a random number generator that is based on the current system time. Thus, if you split your data now without specifying the random state of the machine, next time you perform the command, it might return a different result. For this reason, we set the `random_state` to a given number. In this case `random_state=25`."
      ]
    },
    {
      "cell_type": "markdown",
      "source": [
        "### Training and Testing Ratio\n",
        "\n",
        "The `test_size` parameter determines the proportion of the dataset which will be allocated to the training set versus the testing set. In this case, 30% of the overall data will be dedicated to the out-of-sample evaluation of the model."
      ],
      "metadata": {
        "id": "fVAk6pmH9AWN"
      }
    },
    {
      "cell_type": "code",
      "source": [
        "x_train, x_test, y_train, y_test = train_test_split(X, y, test_size=0.3, random_state=16)\n",
        "\n",
        "print(f\"No. of training examples: {x_train.shape[0]}\")\n",
        "print(f\"No. of testing examples: {x_test.shape[0]}\")\n"
      ],
      "metadata": {
        "id": "iUHiP_Of7eMn",
        "colab": {
          "base_uri": "https://localhost:8080/"
        },
        "outputId": "0e8ed34a-aa74-4c6d-89f5-7f790d38c70b"
      },
      "execution_count": null,
      "outputs": [
        {
          "output_type": "stream",
          "name": "stdout",
          "text": [
            "No. of training examples: 2560\n",
            "No. of testing examples: 1098\n"
          ]
        }
      ]
    },
    {
      "cell_type": "markdown",
      "source": [
        "The method ensures that the outcome of interest is present at equal proportions in the training and testing sets. We fix the `random_state` parameter to ensure that every time we run the code, we get the same partition."
      ],
      "metadata": {
        "id": "qpl5wdVP-X8v"
      }
    },
    {
      "cell_type": "markdown",
      "source": [
        "# Setting a Baseline\n",
        "\n",
        "Before we make any predictions, let's find the accuracy of a baseline model that doesn't use any fancy methodology."
      ],
      "metadata": {
        "id": "7r05JRY8_adh"
      }
    },
    {
      "cell_type": "markdown",
      "source": [
        "## A Simple Baseline\n",
        "\n",
        "A simple baseline model we can use is to always predict the most common outcome in the training set."
      ],
      "metadata": {
        "id": "nb3oG6ilE59F"
      }
    },
    {
      "cell_type": "code",
      "source": [
        "y_train.value_counts()"
      ],
      "metadata": {
        "id": "-tPfWj91_sVh",
        "colab": {
          "base_uri": "https://localhost:8080/",
          "height": 172
        },
        "outputId": "c36fce06-5365-4958-c38a-8cbe8a12a54d"
      },
      "execution_count": null,
      "outputs": [
        {
          "output_type": "execute_result",
          "data": {
            "text/plain": [
              "TenYearCHD\n",
              "0    2178\n",
              "1     382\n",
              "Name: count, dtype: int64"
            ],
            "text/html": [
              "<div>\n",
              "<style scoped>\n",
              "    .dataframe tbody tr th:only-of-type {\n",
              "        vertical-align: middle;\n",
              "    }\n",
              "\n",
              "    .dataframe tbody tr th {\n",
              "        vertical-align: top;\n",
              "    }\n",
              "\n",
              "    .dataframe thead th {\n",
              "        text-align: right;\n",
              "    }\n",
              "</style>\n",
              "<table border=\"1\" class=\"dataframe\">\n",
              "  <thead>\n",
              "    <tr style=\"text-align: right;\">\n",
              "      <th></th>\n",
              "      <th>count</th>\n",
              "    </tr>\n",
              "    <tr>\n",
              "      <th>TenYearCHD</th>\n",
              "      <th></th>\n",
              "    </tr>\n",
              "  </thead>\n",
              "  <tbody>\n",
              "    <tr>\n",
              "      <th>0</th>\n",
              "      <td>2178</td>\n",
              "    </tr>\n",
              "    <tr>\n",
              "      <th>1</th>\n",
              "      <td>382</td>\n",
              "    </tr>\n",
              "  </tbody>\n",
              "</table>\n",
              "</div><br><label><b>dtype:</b> int64</label>"
            ]
          },
          "metadata": {},
          "execution_count": 18
        }
      ]
    },
    {
      "cell_type": "markdown",
      "source": [
        "## Baseline Accuracy\n",
        "\n",
        "So the most common outcome is to assume that everyone is going to be healthy.\n",
        "\n",
        "What is our test-set accuracy from this baseline model?\n",
        "HINT: Our prediction is right only when an individual does not develop CHD."
      ],
      "metadata": {
        "id": "vMSbMEAg_9zi"
      }
    },
    {
      "cell_type": "code",
      "source": [
        "y_test.value_counts()"
      ],
      "metadata": {
        "id": "FGaLI6vsAQdQ",
        "colab": {
          "base_uri": "https://localhost:8080/",
          "height": 172
        },
        "outputId": "71676810-b063-4a9d-ed7e-80494bb3ff3f"
      },
      "execution_count": null,
      "outputs": [
        {
          "output_type": "execute_result",
          "data": {
            "text/plain": [
              "TenYearCHD\n",
              "0    923\n",
              "1    175\n",
              "Name: count, dtype: int64"
            ],
            "text/html": [
              "<div>\n",
              "<style scoped>\n",
              "    .dataframe tbody tr th:only-of-type {\n",
              "        vertical-align: middle;\n",
              "    }\n",
              "\n",
              "    .dataframe tbody tr th {\n",
              "        vertical-align: top;\n",
              "    }\n",
              "\n",
              "    .dataframe thead th {\n",
              "        text-align: right;\n",
              "    }\n",
              "</style>\n",
              "<table border=\"1\" class=\"dataframe\">\n",
              "  <thead>\n",
              "    <tr style=\"text-align: right;\">\n",
              "      <th></th>\n",
              "      <th>count</th>\n",
              "    </tr>\n",
              "    <tr>\n",
              "      <th>TenYearCHD</th>\n",
              "      <th></th>\n",
              "    </tr>\n",
              "  </thead>\n",
              "  <tbody>\n",
              "    <tr>\n",
              "      <th>0</th>\n",
              "      <td>923</td>\n",
              "    </tr>\n",
              "    <tr>\n",
              "      <th>1</th>\n",
              "      <td>175</td>\n",
              "    </tr>\n",
              "  </tbody>\n",
              "</table>\n",
              "</div><br><label><b>dtype:</b> int64</label>"
            ]
          },
          "metadata": {},
          "execution_count": 19
        }
      ]
    },
    {
      "cell_type": "code",
      "source": [
        "baseline_accuracy = 100*y_test.value_counts()[0]/(len(y_test))\n",
        "print(\"So our baseline has an accuracy of \", baseline_accuracy, '%')"
      ],
      "metadata": {
        "id": "qeoboRB3Abj-",
        "colab": {
          "base_uri": "https://localhost:8080/"
        },
        "outputId": "505ec4a2-6d47-4c35-d15a-456f50a249cc"
      },
      "execution_count": null,
      "outputs": [
        {
          "output_type": "stream",
          "name": "stdout",
          "text": [
            "So our baseline has an accuracy of  84.06193078324226 %\n"
          ]
        }
      ]
    },
    {
      "cell_type": "markdown",
      "source": [
        "## An Alternative Baseline\n",
        "\n",
        "How about if we predict 1 (CHD) if the person is currently hypertensive, and predict 0 otherwise?"
      ],
      "metadata": {
        "id": "DNp7bdyaFfE1"
      }
    },
    {
      "cell_type": "code",
      "source": [
        "baseline_2 = pd.crosstab(y_train, x_train['prevalentHyp'], rownames=['10yearCHD'], colnames=['Hypertension Status'])\n",
        "baseline_2"
      ],
      "metadata": {
        "id": "uVCYFsFEFk9c",
        "colab": {
          "base_uri": "https://localhost:8080/",
          "height": 140
        },
        "outputId": "ff4da3f1-a436-4758-e894-0719e9959c1b"
      },
      "execution_count": null,
      "outputs": [
        {
          "output_type": "execute_result",
          "data": {
            "text/plain": [
              "Hypertension Status     0    1\n",
              "10yearCHD                     \n",
              "0                    1567  611\n",
              "1                     189  193"
            ],
            "text/html": [
              "\n",
              "  <div id=\"df-7b1a8f72-943a-49ae-9861-66a1eb65b7ac\" class=\"colab-df-container\">\n",
              "    <div>\n",
              "<style scoped>\n",
              "    .dataframe tbody tr th:only-of-type {\n",
              "        vertical-align: middle;\n",
              "    }\n",
              "\n",
              "    .dataframe tbody tr th {\n",
              "        vertical-align: top;\n",
              "    }\n",
              "\n",
              "    .dataframe thead th {\n",
              "        text-align: right;\n",
              "    }\n",
              "</style>\n",
              "<table border=\"1\" class=\"dataframe\">\n",
              "  <thead>\n",
              "    <tr style=\"text-align: right;\">\n",
              "      <th>Hypertension Status</th>\n",
              "      <th>0</th>\n",
              "      <th>1</th>\n",
              "    </tr>\n",
              "    <tr>\n",
              "      <th>10yearCHD</th>\n",
              "      <th></th>\n",
              "      <th></th>\n",
              "    </tr>\n",
              "  </thead>\n",
              "  <tbody>\n",
              "    <tr>\n",
              "      <th>0</th>\n",
              "      <td>1567</td>\n",
              "      <td>611</td>\n",
              "    </tr>\n",
              "    <tr>\n",
              "      <th>1</th>\n",
              "      <td>189</td>\n",
              "      <td>193</td>\n",
              "    </tr>\n",
              "  </tbody>\n",
              "</table>\n",
              "</div>\n",
              "    <div class=\"colab-df-buttons\">\n",
              "\n",
              "  <div class=\"colab-df-container\">\n",
              "    <button class=\"colab-df-convert\" onclick=\"convertToInteractive('df-7b1a8f72-943a-49ae-9861-66a1eb65b7ac')\"\n",
              "            title=\"Convert this dataframe to an interactive table.\"\n",
              "            style=\"display:none;\">\n",
              "\n",
              "  <svg xmlns=\"http://www.w3.org/2000/svg\" height=\"24px\" viewBox=\"0 -960 960 960\">\n",
              "    <path d=\"M120-120v-720h720v720H120Zm60-500h600v-160H180v160Zm220 220h160v-160H400v160Zm0 220h160v-160H400v160ZM180-400h160v-160H180v160Zm440 0h160v-160H620v160ZM180-180h160v-160H180v160Zm440 0h160v-160H620v160Z\"/>\n",
              "  </svg>\n",
              "    </button>\n",
              "\n",
              "  <style>\n",
              "    .colab-df-container {\n",
              "      display:flex;\n",
              "      gap: 12px;\n",
              "    }\n",
              "\n",
              "    .colab-df-convert {\n",
              "      background-color: #E8F0FE;\n",
              "      border: none;\n",
              "      border-radius: 50%;\n",
              "      cursor: pointer;\n",
              "      display: none;\n",
              "      fill: #1967D2;\n",
              "      height: 32px;\n",
              "      padding: 0 0 0 0;\n",
              "      width: 32px;\n",
              "    }\n",
              "\n",
              "    .colab-df-convert:hover {\n",
              "      background-color: #E2EBFA;\n",
              "      box-shadow: 0px 1px 2px rgba(60, 64, 67, 0.3), 0px 1px 3px 1px rgba(60, 64, 67, 0.15);\n",
              "      fill: #174EA6;\n",
              "    }\n",
              "\n",
              "    .colab-df-buttons div {\n",
              "      margin-bottom: 4px;\n",
              "    }\n",
              "\n",
              "    [theme=dark] .colab-df-convert {\n",
              "      background-color: #3B4455;\n",
              "      fill: #D2E3FC;\n",
              "    }\n",
              "\n",
              "    [theme=dark] .colab-df-convert:hover {\n",
              "      background-color: #434B5C;\n",
              "      box-shadow: 0px 1px 3px 1px rgba(0, 0, 0, 0.15);\n",
              "      filter: drop-shadow(0px 1px 2px rgba(0, 0, 0, 0.3));\n",
              "      fill: #FFFFFF;\n",
              "    }\n",
              "  </style>\n",
              "\n",
              "    <script>\n",
              "      const buttonEl =\n",
              "        document.querySelector('#df-7b1a8f72-943a-49ae-9861-66a1eb65b7ac button.colab-df-convert');\n",
              "      buttonEl.style.display =\n",
              "        google.colab.kernel.accessAllowed ? 'block' : 'none';\n",
              "\n",
              "      async function convertToInteractive(key) {\n",
              "        const element = document.querySelector('#df-7b1a8f72-943a-49ae-9861-66a1eb65b7ac');\n",
              "        const dataTable =\n",
              "          await google.colab.kernel.invokeFunction('convertToInteractive',\n",
              "                                                    [key], {});\n",
              "        if (!dataTable) return;\n",
              "\n",
              "        const docLinkHtml = 'Like what you see? Visit the ' +\n",
              "          '<a target=\"_blank\" href=https://colab.research.google.com/notebooks/data_table.ipynb>data table notebook</a>'\n",
              "          + ' to learn more about interactive tables.';\n",
              "        element.innerHTML = '';\n",
              "        dataTable['output_type'] = 'display_data';\n",
              "        await google.colab.output.renderOutput(dataTable, element);\n",
              "        const docLink = document.createElement('div');\n",
              "        docLink.innerHTML = docLinkHtml;\n",
              "        element.appendChild(docLink);\n",
              "      }\n",
              "    </script>\n",
              "  </div>\n",
              "\n",
              "\n",
              "<div id=\"df-e3b8fe64-bee5-4b16-ae71-df49bfd75a3f\">\n",
              "  <button class=\"colab-df-quickchart\" onclick=\"quickchart('df-e3b8fe64-bee5-4b16-ae71-df49bfd75a3f')\"\n",
              "            title=\"Suggest charts\"\n",
              "            style=\"display:none;\">\n",
              "\n",
              "<svg xmlns=\"http://www.w3.org/2000/svg\" height=\"24px\"viewBox=\"0 0 24 24\"\n",
              "     width=\"24px\">\n",
              "    <g>\n",
              "        <path d=\"M19 3H5c-1.1 0-2 .9-2 2v14c0 1.1.9 2 2 2h14c1.1 0 2-.9 2-2V5c0-1.1-.9-2-2-2zM9 17H7v-7h2v7zm4 0h-2V7h2v10zm4 0h-2v-4h2v4z\"/>\n",
              "    </g>\n",
              "</svg>\n",
              "  </button>\n",
              "\n",
              "<style>\n",
              "  .colab-df-quickchart {\n",
              "      --bg-color: #E8F0FE;\n",
              "      --fill-color: #1967D2;\n",
              "      --hover-bg-color: #E2EBFA;\n",
              "      --hover-fill-color: #174EA6;\n",
              "      --disabled-fill-color: #AAA;\n",
              "      --disabled-bg-color: #DDD;\n",
              "  }\n",
              "\n",
              "  [theme=dark] .colab-df-quickchart {\n",
              "      --bg-color: #3B4455;\n",
              "      --fill-color: #D2E3FC;\n",
              "      --hover-bg-color: #434B5C;\n",
              "      --hover-fill-color: #FFFFFF;\n",
              "      --disabled-bg-color: #3B4455;\n",
              "      --disabled-fill-color: #666;\n",
              "  }\n",
              "\n",
              "  .colab-df-quickchart {\n",
              "    background-color: var(--bg-color);\n",
              "    border: none;\n",
              "    border-radius: 50%;\n",
              "    cursor: pointer;\n",
              "    display: none;\n",
              "    fill: var(--fill-color);\n",
              "    height: 32px;\n",
              "    padding: 0;\n",
              "    width: 32px;\n",
              "  }\n",
              "\n",
              "  .colab-df-quickchart:hover {\n",
              "    background-color: var(--hover-bg-color);\n",
              "    box-shadow: 0 1px 2px rgba(60, 64, 67, 0.3), 0 1px 3px 1px rgba(60, 64, 67, 0.15);\n",
              "    fill: var(--button-hover-fill-color);\n",
              "  }\n",
              "\n",
              "  .colab-df-quickchart-complete:disabled,\n",
              "  .colab-df-quickchart-complete:disabled:hover {\n",
              "    background-color: var(--disabled-bg-color);\n",
              "    fill: var(--disabled-fill-color);\n",
              "    box-shadow: none;\n",
              "  }\n",
              "\n",
              "  .colab-df-spinner {\n",
              "    border: 2px solid var(--fill-color);\n",
              "    border-color: transparent;\n",
              "    border-bottom-color: var(--fill-color);\n",
              "    animation:\n",
              "      spin 1s steps(1) infinite;\n",
              "  }\n",
              "\n",
              "  @keyframes spin {\n",
              "    0% {\n",
              "      border-color: transparent;\n",
              "      border-bottom-color: var(--fill-color);\n",
              "      border-left-color: var(--fill-color);\n",
              "    }\n",
              "    20% {\n",
              "      border-color: transparent;\n",
              "      border-left-color: var(--fill-color);\n",
              "      border-top-color: var(--fill-color);\n",
              "    }\n",
              "    30% {\n",
              "      border-color: transparent;\n",
              "      border-left-color: var(--fill-color);\n",
              "      border-top-color: var(--fill-color);\n",
              "      border-right-color: var(--fill-color);\n",
              "    }\n",
              "    40% {\n",
              "      border-color: transparent;\n",
              "      border-right-color: var(--fill-color);\n",
              "      border-top-color: var(--fill-color);\n",
              "    }\n",
              "    60% {\n",
              "      border-color: transparent;\n",
              "      border-right-color: var(--fill-color);\n",
              "    }\n",
              "    80% {\n",
              "      border-color: transparent;\n",
              "      border-right-color: var(--fill-color);\n",
              "      border-bottom-color: var(--fill-color);\n",
              "    }\n",
              "    90% {\n",
              "      border-color: transparent;\n",
              "      border-bottom-color: var(--fill-color);\n",
              "    }\n",
              "  }\n",
              "</style>\n",
              "\n",
              "  <script>\n",
              "    async function quickchart(key) {\n",
              "      const quickchartButtonEl =\n",
              "        document.querySelector('#' + key + ' button');\n",
              "      quickchartButtonEl.disabled = true;  // To prevent multiple clicks.\n",
              "      quickchartButtonEl.classList.add('colab-df-spinner');\n",
              "      try {\n",
              "        const charts = await google.colab.kernel.invokeFunction(\n",
              "            'suggestCharts', [key], {});\n",
              "      } catch (error) {\n",
              "        console.error('Error during call to suggestCharts:', error);\n",
              "      }\n",
              "      quickchartButtonEl.classList.remove('colab-df-spinner');\n",
              "      quickchartButtonEl.classList.add('colab-df-quickchart-complete');\n",
              "    }\n",
              "    (() => {\n",
              "      let quickchartButtonEl =\n",
              "        document.querySelector('#df-e3b8fe64-bee5-4b16-ae71-df49bfd75a3f button');\n",
              "      quickchartButtonEl.style.display =\n",
              "        google.colab.kernel.accessAllowed ? 'block' : 'none';\n",
              "    })();\n",
              "  </script>\n",
              "</div>\n",
              "\n",
              "  <div id=\"id_f42e521a-a9fd-4c4e-8fb6-0bfcdc6901a5\">\n",
              "    <style>\n",
              "      .colab-df-generate {\n",
              "        background-color: #E8F0FE;\n",
              "        border: none;\n",
              "        border-radius: 50%;\n",
              "        cursor: pointer;\n",
              "        display: none;\n",
              "        fill: #1967D2;\n",
              "        height: 32px;\n",
              "        padding: 0 0 0 0;\n",
              "        width: 32px;\n",
              "      }\n",
              "\n",
              "      .colab-df-generate:hover {\n",
              "        background-color: #E2EBFA;\n",
              "        box-shadow: 0px 1px 2px rgba(60, 64, 67, 0.3), 0px 1px 3px 1px rgba(60, 64, 67, 0.15);\n",
              "        fill: #174EA6;\n",
              "      }\n",
              "\n",
              "      [theme=dark] .colab-df-generate {\n",
              "        background-color: #3B4455;\n",
              "        fill: #D2E3FC;\n",
              "      }\n",
              "\n",
              "      [theme=dark] .colab-df-generate:hover {\n",
              "        background-color: #434B5C;\n",
              "        box-shadow: 0px 1px 3px 1px rgba(0, 0, 0, 0.15);\n",
              "        filter: drop-shadow(0px 1px 2px rgba(0, 0, 0, 0.3));\n",
              "        fill: #FFFFFF;\n",
              "      }\n",
              "    </style>\n",
              "    <button class=\"colab-df-generate\" onclick=\"generateWithVariable('baseline_2')\"\n",
              "            title=\"Generate code using this dataframe.\"\n",
              "            style=\"display:none;\">\n",
              "\n",
              "  <svg xmlns=\"http://www.w3.org/2000/svg\" height=\"24px\"viewBox=\"0 0 24 24\"\n",
              "       width=\"24px\">\n",
              "    <path d=\"M7,19H8.4L18.45,9,17,7.55,7,17.6ZM5,21V16.75L18.45,3.32a2,2,0,0,1,2.83,0l1.4,1.43a1.91,1.91,0,0,1,.58,1.4,1.91,1.91,0,0,1-.58,1.4L9.25,21ZM18.45,9,17,7.55Zm-12,3A5.31,5.31,0,0,0,4.9,8.1,5.31,5.31,0,0,0,1,6.5,5.31,5.31,0,0,0,4.9,4.9,5.31,5.31,0,0,0,6.5,1,5.31,5.31,0,0,0,8.1,4.9,5.31,5.31,0,0,0,12,6.5,5.46,5.46,0,0,0,6.5,12Z\"/>\n",
              "  </svg>\n",
              "    </button>\n",
              "    <script>\n",
              "      (() => {\n",
              "      const buttonEl =\n",
              "        document.querySelector('#id_f42e521a-a9fd-4c4e-8fb6-0bfcdc6901a5 button.colab-df-generate');\n",
              "      buttonEl.style.display =\n",
              "        google.colab.kernel.accessAllowed ? 'block' : 'none';\n",
              "\n",
              "      buttonEl.onclick = () => {\n",
              "        google.colab.notebook.generateWithVariable('baseline_2');\n",
              "      }\n",
              "      })();\n",
              "    </script>\n",
              "  </div>\n",
              "\n",
              "    </div>\n",
              "  </div>\n"
            ],
            "application/vnd.google.colaboratory.intrinsic+json": {
              "type": "dataframe",
              "variable_name": "baseline_2",
              "summary": "{\n  \"name\": \"baseline_2\",\n  \"rows\": 2,\n  \"fields\": [\n    {\n      \"column\": \"10yearCHD\",\n      \"properties\": {\n        \"dtype\": \"number\",\n        \"std\": 0,\n        \"min\": 0,\n        \"max\": 1,\n        \"num_unique_values\": 2,\n        \"samples\": [\n          1,\n          0\n        ],\n        \"semantic_type\": \"\",\n        \"description\": \"\"\n      }\n    },\n    {\n      \"column\": 0,\n      \"properties\": {\n        \"dtype\": \"number\",\n        \"std\": 974,\n        \"min\": 189,\n        \"max\": 1567,\n        \"num_unique_values\": 2,\n        \"samples\": [\n          189,\n          1567\n        ],\n        \"semantic_type\": \"\",\n        \"description\": \"\"\n      }\n    },\n    {\n      \"column\": 1,\n      \"properties\": {\n        \"dtype\": \"number\",\n        \"std\": 295,\n        \"min\": 193,\n        \"max\": 611,\n        \"num_unique_values\": 2,\n        \"samples\": [\n          193,\n          611\n        ],\n        \"semantic_type\": \"\",\n        \"description\": \"\"\n      }\n    }\n  ]\n}"
            }
          },
          "metadata": {},
          "execution_count": 21
        }
      ]
    },
    {
      "cell_type": "markdown",
      "source": [
        "What is the accuracy of this baseline?"
      ],
      "metadata": {
        "id": "jpm2_HMwGbcp"
      }
    },
    {
      "cell_type": "code",
      "source": [
        "100*(baseline_2.loc[0,0]+baseline_2.loc[1,1])/x_train.shape[0]"
      ],
      "metadata": {
        "id": "zEyjvo-aGg-l",
        "colab": {
          "base_uri": "https://localhost:8080/"
        },
        "outputId": "a314873f-7f08-464f-ee8f-e30509d3bfec"
      },
      "execution_count": null,
      "outputs": [
        {
          "output_type": "execute_result",
          "data": {
            "text/plain": [
              "68.75"
            ]
          },
          "metadata": {},
          "execution_count": 22
        }
      ]
    },
    {
      "cell_type": "markdown",
      "source": [
        "Looks like the first one was better!\n",
        "Now, we're ready to build the Logistic Regression model."
      ],
      "metadata": {
        "id": "pIfnh35VBCB3"
      }
    },
    {
      "cell_type": "markdown",
      "source": [
        "# Train a Logistic Regression Model\n",
        "\n",
        "Now, we are ready to build our model using the training set."
      ],
      "metadata": {
        "id": "Hy-dnn9kFCcz"
      }
    },
    {
      "cell_type": "markdown",
      "source": [
        "## The Entire Dataset\n",
        "\n",
        "We will add a constant variable (equal to 1) such that the model can account for a bias term."
      ],
      "metadata": {
        "id": "WYwHdwEFJRo1"
      }
    },
    {
      "cell_type": "code",
      "source": [
        "x_train_logit = x_train.copy()\n",
        "x_train_logit['constant']=1\n",
        "\n",
        "model = sm.Logit(endog=y_train, exog=x_train_logit).fit()"
      ],
      "metadata": {
        "id": "0LWHXHVsHdIY",
        "colab": {
          "base_uri": "https://localhost:8080/"
        },
        "outputId": "8bf72a46-3b87-4c4d-a7fd-d379637fd774"
      },
      "execution_count": null,
      "outputs": [
        {
          "output_type": "stream",
          "name": "stdout",
          "text": [
            "Optimization terminated successfully.\n",
            "         Current function value: 0.373277\n",
            "         Iterations 7\n"
          ]
        }
      ]
    },
    {
      "cell_type": "markdown",
      "source": [
        "What is the output of our model?"
      ],
      "metadata": {
        "id": "K-avYN1fH4Fq"
      }
    },
    {
      "cell_type": "code",
      "source": [
        "# printing the summary table\n",
        "summary = model.summary()\n",
        "print(model.summary())"
      ],
      "metadata": {
        "id": "Pi1wd0gbH8Nr",
        "colab": {
          "base_uri": "https://localhost:8080/"
        },
        "outputId": "48008e6d-f817-4c3c-a8fc-0c7f6317fee3"
      },
      "execution_count": null,
      "outputs": [
        {
          "output_type": "stream",
          "name": "stdout",
          "text": [
            "                           Logit Regression Results                           \n",
            "==============================================================================\n",
            "Dep. Variable:             TenYearCHD   No. Observations:                 2560\n",
            "Model:                          Logit   Df Residuals:                     2547\n",
            "Method:                           MLE   Df Model:                           12\n",
            "Date:                Wed, 19 Feb 2025   Pseudo R-squ.:                  0.1141\n",
            "Time:                        22:19:38   Log-Likelihood:                -955.59\n",
            "converged:                       True   LL-Null:                       -1078.7\n",
            "Covariance Type:            nonrobust   LLR p-value:                 8.730e-46\n",
            "===================================================================================\n",
            "                      coef    std err          z      P>|z|      [0.025      0.975]\n",
            "-----------------------------------------------------------------------------------\n",
            "male                0.6352      0.125      5.080      0.000       0.390       0.880\n",
            "age                 0.0609      0.008      7.799      0.000       0.046       0.076\n",
            "education          -0.0517      0.059     -0.877      0.380      -0.167       0.064\n",
            "currentSmoker       0.5164      0.127      4.053      0.000       0.267       0.766\n",
            "BPMeds              0.1676      0.284      0.589      0.556      -0.390       0.725\n",
            "prevalentStroke     0.8290      0.630      1.315      0.188      -0.406       2.064\n",
            "prevalentHyp        0.1373      0.167      0.822      0.411      -0.190       0.465\n",
            "diabetes            1.0515      0.278      3.781      0.000       0.507       1.597\n",
            "totChol             0.0019      0.001      1.393      0.164      -0.001       0.004\n",
            "sysBP               0.0169      0.004      4.678      0.000       0.010       0.024\n",
            "BMI                -0.0035      0.015     -0.232      0.816      -0.033       0.026\n",
            "heartRate          -0.0024      0.005     -0.481      0.630      -0.012       0.007\n",
            "constant           -7.9325      0.818     -9.696      0.000      -9.536      -6.329\n",
            "===================================================================================\n"
          ]
        }
      ]
    },
    {
      "cell_type": "markdown",
      "source": [
        "## Remove Variables with High P-Values\n",
        "\n",
        "Notice that some of the included factors are not statistically significant since the p-value > 0.1. Let's try to remove them and re-train the model."
      ],
      "metadata": {
        "id": "GMdSOeVzIaiM"
      }
    },
    {
      "cell_type": "code",
      "source": [
        "vars_to_remove = ['education','BPMeds','prevalentStroke','prevalentHyp','totChol','BMI','heartRate']\n",
        "x_train_red = x_train.drop(vars_to_remove, axis=1)\n",
        "x_train_logit_red = x_train_logit.drop(vars_to_remove, axis=1)\n",
        "x_test_red = x_test.drop(vars_to_remove, axis=1)"
      ],
      "metadata": {
        "id": "tWPC9-6-IyeR"
      },
      "execution_count": null,
      "outputs": []
    },
    {
      "cell_type": "markdown",
      "source": [
        "Now we can train again on the reduced dataset."
      ],
      "metadata": {
        "id": "LLsUth4JJNqs"
      }
    },
    {
      "cell_type": "code",
      "source": [
        "model2 = sm.Logit(endog=y_train, exog=x_train_logit_red).fit()\n",
        "# printing the summary table\n",
        "print(model2.summary())"
      ],
      "metadata": {
        "id": "2R_TYVK-JM73",
        "colab": {
          "base_uri": "https://localhost:8080/"
        },
        "outputId": "80ccf5bd-d0fd-416a-f590-4bf3155f02fe"
      },
      "execution_count": null,
      "outputs": [
        {
          "output_type": "stream",
          "name": "stdout",
          "text": [
            "Optimization terminated successfully.\n",
            "         Current function value: 0.374394\n",
            "         Iterations 7\n",
            "                           Logit Regression Results                           \n",
            "==============================================================================\n",
            "Dep. Variable:             TenYearCHD   No. Observations:                 2560\n",
            "Model:                          Logit   Df Residuals:                     2554\n",
            "Method:                           MLE   Df Model:                            5\n",
            "Date:                Wed, 19 Feb 2025   Pseudo R-squ.:                  0.1114\n",
            "Time:                        22:19:52   Log-Likelihood:                -958.45\n",
            "converged:                       True   LL-Null:                       -1078.7\n",
            "Covariance Type:            nonrobust   LLR p-value:                 6.230e-50\n",
            "=================================================================================\n",
            "                    coef    std err          z      P>|z|      [0.025      0.975]\n",
            "---------------------------------------------------------------------------------\n",
            "male              0.6124      0.123      4.996      0.000       0.372       0.853\n",
            "age               0.0639      0.008      8.379      0.000       0.049       0.079\n",
            "currentSmoker     0.5126      0.125      4.096      0.000       0.267       0.758\n",
            "diabetes          1.0609      0.275      3.851      0.000       0.521       1.601\n",
            "sysBP             0.0196      0.003      7.625      0.000       0.015       0.025\n",
            "constant         -8.3023      0.500    -16.605      0.000      -9.282      -7.322\n",
            "=================================================================================\n"
          ]
        }
      ]
    },
    {
      "cell_type": "markdown",
      "metadata": {
        "id": "6pqbkTo7gtLa"
      },
      "source": [
        "# Making Predictions\n",
        "\n",
        "The `statsmodels` baseline is a great way to summarize and understand the derived logistic regression model. However, for machine learning purposes the `sklearn` library provides us with more tools and functionalities. For this reason, we will re-train with the new module."
      ]
    },
    {
      "cell_type": "markdown",
      "source": [
        "## Re-train with Scikit-Learn"
      ],
      "metadata": {
        "id": "9aAvp1hJg_Xj"
      }
    },
    {
      "cell_type": "code",
      "source": [
        "from sklearn.linear_model import LogisticRegression\n",
        "# Make an instance of the Model\n",
        "# Most parameters not specified are set to their defaults\n",
        "logisticRegr = LogisticRegression(max_iter=900, penalty=None)\n",
        "logisticRegr.fit(x_train_red, y_train)"
      ],
      "metadata": {
        "id": "0zKPgoyCKTb3",
        "colab": {
          "base_uri": "https://localhost:8080/",
          "height": 78
        },
        "outputId": "a0f9e1d7-27de-4e8c-b6c0-3b162fc43e33"
      },
      "execution_count": null,
      "outputs": [
        {
          "output_type": "execute_result",
          "data": {
            "text/plain": [
              "LogisticRegression(max_iter=900, penalty=None)"
            ],
            "text/html": [
              "<style>#sk-container-id-1 {\n",
              "  /* Definition of color scheme common for light and dark mode */\n",
              "  --sklearn-color-text: #000;\n",
              "  --sklearn-color-text-muted: #666;\n",
              "  --sklearn-color-line: gray;\n",
              "  /* Definition of color scheme for unfitted estimators */\n",
              "  --sklearn-color-unfitted-level-0: #fff5e6;\n",
              "  --sklearn-color-unfitted-level-1: #f6e4d2;\n",
              "  --sklearn-color-unfitted-level-2: #ffe0b3;\n",
              "  --sklearn-color-unfitted-level-3: chocolate;\n",
              "  /* Definition of color scheme for fitted estimators */\n",
              "  --sklearn-color-fitted-level-0: #f0f8ff;\n",
              "  --sklearn-color-fitted-level-1: #d4ebff;\n",
              "  --sklearn-color-fitted-level-2: #b3dbfd;\n",
              "  --sklearn-color-fitted-level-3: cornflowerblue;\n",
              "\n",
              "  /* Specific color for light theme */\n",
              "  --sklearn-color-text-on-default-background: var(--sg-text-color, var(--theme-code-foreground, var(--jp-content-font-color1, black)));\n",
              "  --sklearn-color-background: var(--sg-background-color, var(--theme-background, var(--jp-layout-color0, white)));\n",
              "  --sklearn-color-border-box: var(--sg-text-color, var(--theme-code-foreground, var(--jp-content-font-color1, black)));\n",
              "  --sklearn-color-icon: #696969;\n",
              "\n",
              "  @media (prefers-color-scheme: dark) {\n",
              "    /* Redefinition of color scheme for dark theme */\n",
              "    --sklearn-color-text-on-default-background: var(--sg-text-color, var(--theme-code-foreground, var(--jp-content-font-color1, white)));\n",
              "    --sklearn-color-background: var(--sg-background-color, var(--theme-background, var(--jp-layout-color0, #111)));\n",
              "    --sklearn-color-border-box: var(--sg-text-color, var(--theme-code-foreground, var(--jp-content-font-color1, white)));\n",
              "    --sklearn-color-icon: #878787;\n",
              "  }\n",
              "}\n",
              "\n",
              "#sk-container-id-1 {\n",
              "  color: var(--sklearn-color-text);\n",
              "}\n",
              "\n",
              "#sk-container-id-1 pre {\n",
              "  padding: 0;\n",
              "}\n",
              "\n",
              "#sk-container-id-1 input.sk-hidden--visually {\n",
              "  border: 0;\n",
              "  clip: rect(1px 1px 1px 1px);\n",
              "  clip: rect(1px, 1px, 1px, 1px);\n",
              "  height: 1px;\n",
              "  margin: -1px;\n",
              "  overflow: hidden;\n",
              "  padding: 0;\n",
              "  position: absolute;\n",
              "  width: 1px;\n",
              "}\n",
              "\n",
              "#sk-container-id-1 div.sk-dashed-wrapped {\n",
              "  border: 1px dashed var(--sklearn-color-line);\n",
              "  margin: 0 0.4em 0.5em 0.4em;\n",
              "  box-sizing: border-box;\n",
              "  padding-bottom: 0.4em;\n",
              "  background-color: var(--sklearn-color-background);\n",
              "}\n",
              "\n",
              "#sk-container-id-1 div.sk-container {\n",
              "  /* jupyter's `normalize.less` sets `[hidden] { display: none; }`\n",
              "     but bootstrap.min.css set `[hidden] { display: none !important; }`\n",
              "     so we also need the `!important` here to be able to override the\n",
              "     default hidden behavior on the sphinx rendered scikit-learn.org.\n",
              "     See: https://github.com/scikit-learn/scikit-learn/issues/21755 */\n",
              "  display: inline-block !important;\n",
              "  position: relative;\n",
              "}\n",
              "\n",
              "#sk-container-id-1 div.sk-text-repr-fallback {\n",
              "  display: none;\n",
              "}\n",
              "\n",
              "div.sk-parallel-item,\n",
              "div.sk-serial,\n",
              "div.sk-item {\n",
              "  /* draw centered vertical line to link estimators */\n",
              "  background-image: linear-gradient(var(--sklearn-color-text-on-default-background), var(--sklearn-color-text-on-default-background));\n",
              "  background-size: 2px 100%;\n",
              "  background-repeat: no-repeat;\n",
              "  background-position: center center;\n",
              "}\n",
              "\n",
              "/* Parallel-specific style estimator block */\n",
              "\n",
              "#sk-container-id-1 div.sk-parallel-item::after {\n",
              "  content: \"\";\n",
              "  width: 100%;\n",
              "  border-bottom: 2px solid var(--sklearn-color-text-on-default-background);\n",
              "  flex-grow: 1;\n",
              "}\n",
              "\n",
              "#sk-container-id-1 div.sk-parallel {\n",
              "  display: flex;\n",
              "  align-items: stretch;\n",
              "  justify-content: center;\n",
              "  background-color: var(--sklearn-color-background);\n",
              "  position: relative;\n",
              "}\n",
              "\n",
              "#sk-container-id-1 div.sk-parallel-item {\n",
              "  display: flex;\n",
              "  flex-direction: column;\n",
              "}\n",
              "\n",
              "#sk-container-id-1 div.sk-parallel-item:first-child::after {\n",
              "  align-self: flex-end;\n",
              "  width: 50%;\n",
              "}\n",
              "\n",
              "#sk-container-id-1 div.sk-parallel-item:last-child::after {\n",
              "  align-self: flex-start;\n",
              "  width: 50%;\n",
              "}\n",
              "\n",
              "#sk-container-id-1 div.sk-parallel-item:only-child::after {\n",
              "  width: 0;\n",
              "}\n",
              "\n",
              "/* Serial-specific style estimator block */\n",
              "\n",
              "#sk-container-id-1 div.sk-serial {\n",
              "  display: flex;\n",
              "  flex-direction: column;\n",
              "  align-items: center;\n",
              "  background-color: var(--sklearn-color-background);\n",
              "  padding-right: 1em;\n",
              "  padding-left: 1em;\n",
              "}\n",
              "\n",
              "\n",
              "/* Toggleable style: style used for estimator/Pipeline/ColumnTransformer box that is\n",
              "clickable and can be expanded/collapsed.\n",
              "- Pipeline and ColumnTransformer use this feature and define the default style\n",
              "- Estimators will overwrite some part of the style using the `sk-estimator` class\n",
              "*/\n",
              "\n",
              "/* Pipeline and ColumnTransformer style (default) */\n",
              "\n",
              "#sk-container-id-1 div.sk-toggleable {\n",
              "  /* Default theme specific background. It is overwritten whether we have a\n",
              "  specific estimator or a Pipeline/ColumnTransformer */\n",
              "  background-color: var(--sklearn-color-background);\n",
              "}\n",
              "\n",
              "/* Toggleable label */\n",
              "#sk-container-id-1 label.sk-toggleable__label {\n",
              "  cursor: pointer;\n",
              "  display: flex;\n",
              "  width: 100%;\n",
              "  margin-bottom: 0;\n",
              "  padding: 0.5em;\n",
              "  box-sizing: border-box;\n",
              "  text-align: center;\n",
              "  align-items: start;\n",
              "  justify-content: space-between;\n",
              "  gap: 0.5em;\n",
              "}\n",
              "\n",
              "#sk-container-id-1 label.sk-toggleable__label .caption {\n",
              "  font-size: 0.6rem;\n",
              "  font-weight: lighter;\n",
              "  color: var(--sklearn-color-text-muted);\n",
              "}\n",
              "\n",
              "#sk-container-id-1 label.sk-toggleable__label-arrow:before {\n",
              "  /* Arrow on the left of the label */\n",
              "  content: \"▸\";\n",
              "  float: left;\n",
              "  margin-right: 0.25em;\n",
              "  color: var(--sklearn-color-icon);\n",
              "}\n",
              "\n",
              "#sk-container-id-1 label.sk-toggleable__label-arrow:hover:before {\n",
              "  color: var(--sklearn-color-text);\n",
              "}\n",
              "\n",
              "/* Toggleable content - dropdown */\n",
              "\n",
              "#sk-container-id-1 div.sk-toggleable__content {\n",
              "  max-height: 0;\n",
              "  max-width: 0;\n",
              "  overflow: hidden;\n",
              "  text-align: left;\n",
              "  /* unfitted */\n",
              "  background-color: var(--sklearn-color-unfitted-level-0);\n",
              "}\n",
              "\n",
              "#sk-container-id-1 div.sk-toggleable__content.fitted {\n",
              "  /* fitted */\n",
              "  background-color: var(--sklearn-color-fitted-level-0);\n",
              "}\n",
              "\n",
              "#sk-container-id-1 div.sk-toggleable__content pre {\n",
              "  margin: 0.2em;\n",
              "  border-radius: 0.25em;\n",
              "  color: var(--sklearn-color-text);\n",
              "  /* unfitted */\n",
              "  background-color: var(--sklearn-color-unfitted-level-0);\n",
              "}\n",
              "\n",
              "#sk-container-id-1 div.sk-toggleable__content.fitted pre {\n",
              "  /* unfitted */\n",
              "  background-color: var(--sklearn-color-fitted-level-0);\n",
              "}\n",
              "\n",
              "#sk-container-id-1 input.sk-toggleable__control:checked~div.sk-toggleable__content {\n",
              "  /* Expand drop-down */\n",
              "  max-height: 200px;\n",
              "  max-width: 100%;\n",
              "  overflow: auto;\n",
              "}\n",
              "\n",
              "#sk-container-id-1 input.sk-toggleable__control:checked~label.sk-toggleable__label-arrow:before {\n",
              "  content: \"▾\";\n",
              "}\n",
              "\n",
              "/* Pipeline/ColumnTransformer-specific style */\n",
              "\n",
              "#sk-container-id-1 div.sk-label input.sk-toggleable__control:checked~label.sk-toggleable__label {\n",
              "  color: var(--sklearn-color-text);\n",
              "  background-color: var(--sklearn-color-unfitted-level-2);\n",
              "}\n",
              "\n",
              "#sk-container-id-1 div.sk-label.fitted input.sk-toggleable__control:checked~label.sk-toggleable__label {\n",
              "  background-color: var(--sklearn-color-fitted-level-2);\n",
              "}\n",
              "\n",
              "/* Estimator-specific style */\n",
              "\n",
              "/* Colorize estimator box */\n",
              "#sk-container-id-1 div.sk-estimator input.sk-toggleable__control:checked~label.sk-toggleable__label {\n",
              "  /* unfitted */\n",
              "  background-color: var(--sklearn-color-unfitted-level-2);\n",
              "}\n",
              "\n",
              "#sk-container-id-1 div.sk-estimator.fitted input.sk-toggleable__control:checked~label.sk-toggleable__label {\n",
              "  /* fitted */\n",
              "  background-color: var(--sklearn-color-fitted-level-2);\n",
              "}\n",
              "\n",
              "#sk-container-id-1 div.sk-label label.sk-toggleable__label,\n",
              "#sk-container-id-1 div.sk-label label {\n",
              "  /* The background is the default theme color */\n",
              "  color: var(--sklearn-color-text-on-default-background);\n",
              "}\n",
              "\n",
              "/* On hover, darken the color of the background */\n",
              "#sk-container-id-1 div.sk-label:hover label.sk-toggleable__label {\n",
              "  color: var(--sklearn-color-text);\n",
              "  background-color: var(--sklearn-color-unfitted-level-2);\n",
              "}\n",
              "\n",
              "/* Label box, darken color on hover, fitted */\n",
              "#sk-container-id-1 div.sk-label.fitted:hover label.sk-toggleable__label.fitted {\n",
              "  color: var(--sklearn-color-text);\n",
              "  background-color: var(--sklearn-color-fitted-level-2);\n",
              "}\n",
              "\n",
              "/* Estimator label */\n",
              "\n",
              "#sk-container-id-1 div.sk-label label {\n",
              "  font-family: monospace;\n",
              "  font-weight: bold;\n",
              "  display: inline-block;\n",
              "  line-height: 1.2em;\n",
              "}\n",
              "\n",
              "#sk-container-id-1 div.sk-label-container {\n",
              "  text-align: center;\n",
              "}\n",
              "\n",
              "/* Estimator-specific */\n",
              "#sk-container-id-1 div.sk-estimator {\n",
              "  font-family: monospace;\n",
              "  border: 1px dotted var(--sklearn-color-border-box);\n",
              "  border-radius: 0.25em;\n",
              "  box-sizing: border-box;\n",
              "  margin-bottom: 0.5em;\n",
              "  /* unfitted */\n",
              "  background-color: var(--sklearn-color-unfitted-level-0);\n",
              "}\n",
              "\n",
              "#sk-container-id-1 div.sk-estimator.fitted {\n",
              "  /* fitted */\n",
              "  background-color: var(--sklearn-color-fitted-level-0);\n",
              "}\n",
              "\n",
              "/* on hover */\n",
              "#sk-container-id-1 div.sk-estimator:hover {\n",
              "  /* unfitted */\n",
              "  background-color: var(--sklearn-color-unfitted-level-2);\n",
              "}\n",
              "\n",
              "#sk-container-id-1 div.sk-estimator.fitted:hover {\n",
              "  /* fitted */\n",
              "  background-color: var(--sklearn-color-fitted-level-2);\n",
              "}\n",
              "\n",
              "/* Specification for estimator info (e.g. \"i\" and \"?\") */\n",
              "\n",
              "/* Common style for \"i\" and \"?\" */\n",
              "\n",
              ".sk-estimator-doc-link,\n",
              "a:link.sk-estimator-doc-link,\n",
              "a:visited.sk-estimator-doc-link {\n",
              "  float: right;\n",
              "  font-size: smaller;\n",
              "  line-height: 1em;\n",
              "  font-family: monospace;\n",
              "  background-color: var(--sklearn-color-background);\n",
              "  border-radius: 1em;\n",
              "  height: 1em;\n",
              "  width: 1em;\n",
              "  text-decoration: none !important;\n",
              "  margin-left: 0.5em;\n",
              "  text-align: center;\n",
              "  /* unfitted */\n",
              "  border: var(--sklearn-color-unfitted-level-1) 1pt solid;\n",
              "  color: var(--sklearn-color-unfitted-level-1);\n",
              "}\n",
              "\n",
              ".sk-estimator-doc-link.fitted,\n",
              "a:link.sk-estimator-doc-link.fitted,\n",
              "a:visited.sk-estimator-doc-link.fitted {\n",
              "  /* fitted */\n",
              "  border: var(--sklearn-color-fitted-level-1) 1pt solid;\n",
              "  color: var(--sklearn-color-fitted-level-1);\n",
              "}\n",
              "\n",
              "/* On hover */\n",
              "div.sk-estimator:hover .sk-estimator-doc-link:hover,\n",
              ".sk-estimator-doc-link:hover,\n",
              "div.sk-label-container:hover .sk-estimator-doc-link:hover,\n",
              ".sk-estimator-doc-link:hover {\n",
              "  /* unfitted */\n",
              "  background-color: var(--sklearn-color-unfitted-level-3);\n",
              "  color: var(--sklearn-color-background);\n",
              "  text-decoration: none;\n",
              "}\n",
              "\n",
              "div.sk-estimator.fitted:hover .sk-estimator-doc-link.fitted:hover,\n",
              ".sk-estimator-doc-link.fitted:hover,\n",
              "div.sk-label-container:hover .sk-estimator-doc-link.fitted:hover,\n",
              ".sk-estimator-doc-link.fitted:hover {\n",
              "  /* fitted */\n",
              "  background-color: var(--sklearn-color-fitted-level-3);\n",
              "  color: var(--sklearn-color-background);\n",
              "  text-decoration: none;\n",
              "}\n",
              "\n",
              "/* Span, style for the box shown on hovering the info icon */\n",
              ".sk-estimator-doc-link span {\n",
              "  display: none;\n",
              "  z-index: 9999;\n",
              "  position: relative;\n",
              "  font-weight: normal;\n",
              "  right: .2ex;\n",
              "  padding: .5ex;\n",
              "  margin: .5ex;\n",
              "  width: min-content;\n",
              "  min-width: 20ex;\n",
              "  max-width: 50ex;\n",
              "  color: var(--sklearn-color-text);\n",
              "  box-shadow: 2pt 2pt 4pt #999;\n",
              "  /* unfitted */\n",
              "  background: var(--sklearn-color-unfitted-level-0);\n",
              "  border: .5pt solid var(--sklearn-color-unfitted-level-3);\n",
              "}\n",
              "\n",
              ".sk-estimator-doc-link.fitted span {\n",
              "  /* fitted */\n",
              "  background: var(--sklearn-color-fitted-level-0);\n",
              "  border: var(--sklearn-color-fitted-level-3);\n",
              "}\n",
              "\n",
              ".sk-estimator-doc-link:hover span {\n",
              "  display: block;\n",
              "}\n",
              "\n",
              "/* \"?\"-specific style due to the `<a>` HTML tag */\n",
              "\n",
              "#sk-container-id-1 a.estimator_doc_link {\n",
              "  float: right;\n",
              "  font-size: 1rem;\n",
              "  line-height: 1em;\n",
              "  font-family: monospace;\n",
              "  background-color: var(--sklearn-color-background);\n",
              "  border-radius: 1rem;\n",
              "  height: 1rem;\n",
              "  width: 1rem;\n",
              "  text-decoration: none;\n",
              "  /* unfitted */\n",
              "  color: var(--sklearn-color-unfitted-level-1);\n",
              "  border: var(--sklearn-color-unfitted-level-1) 1pt solid;\n",
              "}\n",
              "\n",
              "#sk-container-id-1 a.estimator_doc_link.fitted {\n",
              "  /* fitted */\n",
              "  border: var(--sklearn-color-fitted-level-1) 1pt solid;\n",
              "  color: var(--sklearn-color-fitted-level-1);\n",
              "}\n",
              "\n",
              "/* On hover */\n",
              "#sk-container-id-1 a.estimator_doc_link:hover {\n",
              "  /* unfitted */\n",
              "  background-color: var(--sklearn-color-unfitted-level-3);\n",
              "  color: var(--sklearn-color-background);\n",
              "  text-decoration: none;\n",
              "}\n",
              "\n",
              "#sk-container-id-1 a.estimator_doc_link.fitted:hover {\n",
              "  /* fitted */\n",
              "  background-color: var(--sklearn-color-fitted-level-3);\n",
              "}\n",
              "</style><div id=\"sk-container-id-1\" class=\"sk-top-container\"><div class=\"sk-text-repr-fallback\"><pre>LogisticRegression(max_iter=900, penalty=None)</pre><b>In a Jupyter environment, please rerun this cell to show the HTML representation or trust the notebook. <br />On GitHub, the HTML representation is unable to render, please try loading this page with nbviewer.org.</b></div><div class=\"sk-container\" hidden><div class=\"sk-item\"><div class=\"sk-estimator fitted sk-toggleable\"><input class=\"sk-toggleable__control sk-hidden--visually\" id=\"sk-estimator-id-1\" type=\"checkbox\" checked><label for=\"sk-estimator-id-1\" class=\"sk-toggleable__label fitted sk-toggleable__label-arrow\"><div><div>LogisticRegression</div></div><div><a class=\"sk-estimator-doc-link fitted\" rel=\"noreferrer\" target=\"_blank\" href=\"https://scikit-learn.org/1.6/modules/generated/sklearn.linear_model.LogisticRegression.html\">?<span>Documentation for LogisticRegression</span></a><span class=\"sk-estimator-doc-link fitted\">i<span>Fitted</span></span></div></label><div class=\"sk-toggleable__content fitted\"><pre>LogisticRegression(max_iter=900, penalty=None)</pre></div> </div></div></div></div>"
            ]
          },
          "metadata": {},
          "execution_count": 30
        }
      ]
    },
    {
      "cell_type": "markdown",
      "source": [
        "## Predictions on the Training Set\n",
        "\n",
        "Let's first get the predictions of the model on the training set."
      ],
      "metadata": {
        "id": "DUkSKOs1iA6V"
      }
    },
    {
      "cell_type": "code",
      "source": [
        "y_train_predictions = logisticRegr.predict_proba(x_train_red)"
      ],
      "metadata": {
        "id": "d4HXIIc6kgmO"
      },
      "execution_count": null,
      "outputs": []
    },
    {
      "cell_type": "markdown",
      "source": [
        "What is the prediction? A probability for each class!"
      ],
      "metadata": {
        "id": "JH2A7XeLmhKF"
      }
    },
    {
      "cell_type": "code",
      "source": [
        "y_train_predictions"
      ],
      "metadata": {
        "id": "4LZdjvhKmbWW",
        "colab": {
          "base_uri": "https://localhost:8080/"
        },
        "outputId": "6742c2d8-ecb9-4f1f-95e7-103846d3645d"
      },
      "execution_count": null,
      "outputs": [
        {
          "output_type": "execute_result",
          "data": {
            "text/plain": [
              "array([[0.87673729, 0.12326271],\n",
              "       [0.81684429, 0.18315571],\n",
              "       [0.8204773 , 0.1795227 ],\n",
              "       ...,\n",
              "       [0.93184333, 0.06815667],\n",
              "       [0.92138602, 0.07861398],\n",
              "       [0.88400066, 0.11599934]])"
            ]
          },
          "metadata": {},
          "execution_count": 32
        }
      ]
    },
    {
      "cell_type": "markdown",
      "source": [
        "## Predictions on the Testing Set"
      ],
      "metadata": {
        "id": "6sgjtsOHiVFk"
      }
    },
    {
      "cell_type": "code",
      "source": [
        "y_test_predictions = logisticRegr.predict_proba(x_test_red)"
      ],
      "metadata": {
        "id": "FgVjg7k0kuoI"
      },
      "execution_count": null,
      "outputs": []
    },
    {
      "cell_type": "markdown",
      "source": [
        "# Model Evaluation - Discrimination Performance\n",
        "\n",
        "In order to evaluate the performance of a binary classification model, we would like to understand how well the model correctly classifies observations. We will apply a suite of evaluation metrics to assess the performance of the model.\n",
        "\n"
      ],
      "metadata": {
        "id": "RAwnghI-l4U4"
      }
    },
    {
      "cell_type": "markdown",
      "source": [
        "## Threshold Based Metrics\n",
        "\n",
        "While binary classification algorithms return the probability of getting CHD within 10 years, we ultimately want to translate this probability into a prediction of whether a patient will get sick or not. We can select a **probability cutoff threshold** ($t$) between 0 and 1 and predict the occurence of the disease for the patients with probabilities higher than $t$ and no adverse outcome for the others. A natural threshold choice is $t=0.5$, which amounts to predicting the most likely outcome.\n",
        "\n",
        "Once we have established a cutoff threshold, we can compute a $2\\times 2$ confusion matrix for the model. This matrix reports the number of correct and incorrect classifications for each outcome at a given probability cutoff threshold (e.g. 0.5). The confusion allows us to calculate several threshold-based evaluation metrics."
      ],
      "metadata": {
        "id": "qDLaiIA4mTAT"
      }
    },
    {
      "cell_type": "code",
      "source": [
        "t = 0.5"
      ],
      "metadata": {
        "id": "KXBCWW9-nRjd"
      },
      "execution_count": null,
      "outputs": []
    },
    {
      "cell_type": "markdown",
      "source": [
        "Let's convert now to binary choices the probability predictions"
      ],
      "metadata": {
        "id": "rCNTrRe5nUyy"
      }
    },
    {
      "cell_type": "code",
      "source": [
        "# Get the second column of the array that reflects the probability that 10yearCHD=10\n",
        "y_test_bin_pred = np.where(y_test_predictions[:,1] > t, 1, 0)"
      ],
      "metadata": {
        "id": "hFLqANk5nT_R"
      },
      "execution_count": null,
      "outputs": []
    },
    {
      "cell_type": "code",
      "source": [
        "y_test_bin_pred"
      ],
      "metadata": {
        "id": "6xHnoGa3rvws",
        "colab": {
          "base_uri": "https://localhost:8080/"
        },
        "outputId": "5d2ca33a-f3f4-4fa3-bbe0-d7d77f58a801"
      },
      "execution_count": null,
      "outputs": [
        {
          "output_type": "execute_result",
          "data": {
            "text/plain": [
              "array([0, 0, 0, ..., 0, 1, 0])"
            ]
          },
          "metadata": {},
          "execution_count": 36
        }
      ]
    },
    {
      "cell_type": "markdown",
      "source": [
        "Load the library with the ML metrics"
      ],
      "metadata": {
        "id": "2vblaf4fob2k"
      }
    },
    {
      "cell_type": "code",
      "source": [
        "from sklearn import metrics"
      ],
      "metadata": {
        "id": "4HasKp4Znkum"
      },
      "execution_count": null,
      "outputs": []
    },
    {
      "cell_type": "markdown",
      "source": [
        "##Accuracy\n",
        "\n",
        "Let's first calculate the accuracy of the model.\n",
        "The % of the observations that are correctly classified.\n",
        "\n",
        "We will first construct the confusion matrix."
      ],
      "metadata": {
        "id": "6yLJT0ZTpK8I"
      }
    },
    {
      "cell_type": "code",
      "source": [
        "cm = metrics.confusion_matrix(y_test, y_test_bin_pred)\n",
        "print(cm)"
      ],
      "metadata": {
        "id": "dABwnqj3ohSz",
        "colab": {
          "base_uri": "https://localhost:8080/"
        },
        "outputId": "df234f03-8355-4568-ef2e-f51ecc074e83"
      },
      "execution_count": null,
      "outputs": [
        {
          "output_type": "stream",
          "name": "stdout",
          "text": [
            "[[906  17]\n",
            " [160  15]]\n"
          ]
        }
      ]
    },
    {
      "cell_type": "code",
      "source": [
        "plt.figure(figsize=(9,9))\n",
        "sns.heatmap(cm, annot=True, fmt=\".3f\", linewidths=.5, square = True, cmap = 'Blues_r');\n",
        "plt.ylabel('Actual label');\n",
        "plt.xlabel('Predicted label');\n",
        "all_sample_title = 'The Confusion Matrix'.format(t)\n",
        "plt.title(all_sample_title, size = 15);"
      ],
      "metadata": {
        "id": "usqR1uc2oo6v",
        "colab": {
          "base_uri": "https://localhost:8080/",
          "height": 730
        },
        "outputId": "cbc15b86-d470-45e0-a5fe-854314e28f6f"
      },
      "execution_count": null,
      "outputs": [
        {
          "output_type": "display_data",
          "data": {
            "text/plain": [
              "<Figure size 900x900 with 2 Axes>"
            ],
            "image/png": "[encoded data removed]"
          },
          "metadata": {}
        }
      ]
    },
    {
      "cell_type": "code",
      "source": [
        "accuracy = 100*(cm[0,0]+cm[1,1])/(cm.sum())\n",
        "print('The confusion matrix that the accuracy of our model is:', accuracy)"
      ],
      "metadata": {
        "id": "VKQYb_WXqVv7",
        "colab": {
          "base_uri": "https://localhost:8080/"
        },
        "outputId": "ceb5bb36-8244-494e-988c-dcc8fc2ba7d9"
      },
      "execution_count": null,
      "outputs": [
        {
          "output_type": "stream",
          "name": "stdout",
          "text": [
            "The confusion matrix that the accuracy of our model is: 83.87978142076503\n"
          ]
        }
      ]
    },
    {
      "cell_type": "markdown",
      "source": [
        "This is better than our baseline!"
      ],
      "metadata": {
        "id": "anDbvo4WrFWT"
      }
    },
    {
      "cell_type": "markdown",
      "source": [
        "## Sensitivity (true positive rate):\n",
        "\n",
        "The proportion of sick patients (true positives) that are correctly identified in the model.  Calculation: $TP/(TP + FN)$, where $TP$ is the number of true positives and $FP$ the number of false positives."
      ],
      "metadata": {
        "id": "GtYtbcehnUVQ"
      }
    },
    {
      "cell_type": "code",
      "source": [
        "sensitivity = 100*((cm[1,1])/(cm[1,0]+cm[1,1]))\n",
        "print(sensitivity)"
      ],
      "metadata": {
        "id": "_IuQ39cDr6o4",
        "colab": {
          "base_uri": "https://localhost:8080/"
        },
        "outputId": "eb8cc8e8-e72d-4d0a-f73a-81ab8961320c"
      },
      "execution_count": null,
      "outputs": [
        {
          "output_type": "stream",
          "name": "stdout",
          "text": [
            "8.571428571428571\n"
          ]
        }
      ]
    },
    {
      "cell_type": "markdown",
      "source": [
        "## Specificity (true negative rate):\n",
        "The proportion of healthy patients (true negatives) who are correctly identified. Calculation: $TN/(TN + FP)$."
      ],
      "metadata": {
        "id": "Agk2geB0nBQ8"
      }
    },
    {
      "cell_type": "code",
      "source": [
        "specificity = 100*((cm[0,0])/(cm[0,0]+cm[0,1]))\n",
        "print(specificity)"
      ],
      "metadata": {
        "id": "eSq3sNeqs14H",
        "colab": {
          "base_uri": "https://localhost:8080/"
        },
        "outputId": "d24a934c-cfae-4e96-c64e-2d62a2cc8c7b"
      },
      "execution_count": null,
      "outputs": [
        {
          "output_type": "stream",
          "name": "stdout",
          "text": [
            "98.15817984832069\n"
          ]
        }
      ]
    },
    {
      "cell_type": "markdown",
      "source": [
        "**How would you evaluate our model?**\n",
        "What type of error is more important??\n",
        "\n",
        "The choice of the threshold matters a lot! What about a metric that does not depend on the threshold?"
      ],
      "metadata": {
        "id": "D7iRqM-HsHtw"
      }
    },
    {
      "cell_type": "markdown",
      "source": [
        "## The ROC Curve\n",
        "\n",
        "The receiver operating characteristic (ROC) curve is another common tool used with binary classifiers. The dotted line represents the ROC curve of a purely random classifier; a good classifier stays as far away from that line as possible (toward the top-left corner)."
      ],
      "metadata": {
        "id": "UQvcdE_gvp09"
      }
    },
    {
      "cell_type": "code",
      "source": [
        "from sklearn.metrics import roc_auc_score\n",
        "from sklearn.metrics import roc_curve\n",
        "\n",
        "fpr, tpr, thresholds = roc_curve(y_test, y_test_predictions[:,1])\n",
        "plt.figure()\n",
        "plt.plot(fpr, tpr, label='ROC Curve')\n",
        "plt.plot([0, 1], [0, 1],'r--')\n",
        "plt.xlim([0.0, 1.0])\n",
        "plt.ylim([0.0, 1.05])\n",
        "plt.xlabel('1- Specificity')\n",
        "plt.ylabel('Sensitivity')\n",
        "plt.title('Receiver operating characteristic')\n",
        "plt.legend(loc=\"lower right\")\n",
        "plt.savefig('Log_ROC')\n",
        "plt.show()"
      ],
      "metadata": {
        "id": "dtinGwGAvocI",
        "colab": {
          "base_uri": "https://localhost:8080/",
          "height": 480
        },
        "outputId": "bfed1385-a04c-44ea-d555-accaa03e69ff"
      },
      "execution_count": null,
      "outputs": [
        {
          "output_type": "display_data",
          "data": {
            "text/plain": [
              "<Figure size 640x480 with 1 Axes>"
            ],
            "image/png": "[encoded data removed]"
          },
          "metadata": {}
        }
      ]
    },
    {
      "cell_type": "markdown",
      "source": [
        "## The Area Under the ROC Curve (AUC)\n",
        "\n",
        "The AUC is the area under the ROC curve. The higher the AUC, the better the performance of the model at distinguishing between the positive and negative classes.\n",
        "\n",
        "When AUC = 1, then the classifier is able to perfectly distinguish between all the Positive and the Negative class points correctly. If, however, the AUC had been 0, then the classifier would be predicting all Negatives as Positives, and all Positives as Negatives.\n",
        "\n",
        "When $0.5<$AUC$<1$, there is a high chance that the classifier will be able to distinguish the positive class values from the negative class values. This is so because the classifier is able to detect more numbers of True positives and True negatives than False negatives and False positives."
      ],
      "metadata": {
        "id": "HBeV17zjw74k"
      }
    },
    {
      "cell_type": "code",
      "source": [
        "logit_roc_auc = roc_auc_score(y_test, y_test_predictions[:,1])\n",
        "print(logit_roc_auc)"
      ],
      "metadata": {
        "id": "TJlmpLD7wGd5",
        "colab": {
          "base_uri": "https://localhost:8080/"
        },
        "collapsed": true,
        "outputId": "9a1a7f19-05b4-4f4c-d561-5581a28bacc7"
      },
      "execution_count": null,
      "outputs": [
        {
          "output_type": "stream",
          "name": "stdout",
          "text": [
            "0.7223340040241448\n"
          ]
        }
      ]
    },
    {
      "cell_type": "markdown",
      "source": [
        "# Exercise 1\n",
        "\n",
        "**Alternative Thresholds**\n",
        "What if we try different thresholds? Calculate the accuracy, sensitivity, and specificity for the following options:\n",
        "*   Option 1: t=0.6\n",
        "*   Option 2: t=0.1\n",
        "\n",
        "What do you observe?"
      ],
      "metadata": {
        "id": "LBUy9ed0uXW5"
      }
    },
    {
      "cell_type": "markdown",
      "source": [
        "# Exercise 2\n",
        "\n",
        "**Precision.**\n",
        "\n",
        "The **precision** metric is the ratio $TP/ (TP + FP)$. The precision is intuitively the ability of the classifier to not label a sample as positive if it is negative.\n",
        "\n",
        "**Calculate the confusion matrix for the testing set for `t=0.5` and compute the precision metric.** You can use the code from above."
      ],
      "metadata": {
        "id": "m5Pt2N5VBbrb"
      }
    },
    {
      "cell_type": "markdown",
      "source": [
        "# Exercise 3\n",
        "\n",
        "**Regularization in Logistic Regression.**\n",
        "\n",
        "To add Lasso on the Logistic Regression function, you will need to run the following command:\n",
        "\n",
        "`log = LogisticRegression(penalty='l1', solver='liblinear')`\n",
        "\n",
        "Use the entire training data set, `x_train` and look into the values of the derived coefficients.\n",
        "\n",
        "**Have any variables been assigned non-zero coefficients?**\n",
        "**What is the AUC on the testing set?**\n"
      ],
      "metadata": {
        "id": "zl1pXnhg7XR2"
      }
    },
    {
      "cell_type": "markdown",
      "source": [
        "# OPTIONAL: Model Evaluation - Calibration Performance\n",
        "\n",
        "See also slide at the end of the lecture slides. As usual, ask ChatGPT and BARD for additional information and feel free to ask questions in our next session."
      ],
      "metadata": {
        "id": "nv70oTq3ypyS"
      }
    },
    {
      "cell_type": "code",
      "source": [
        "from sklearn.calibration import calibration_curve"
      ],
      "metadata": {
        "id": "k1-tmSGBJaPp"
      },
      "execution_count": null,
      "outputs": []
    },
    {
      "cell_type": "code",
      "source": [
        "prob_true, prob_pred = calibration_curve(y_test, y_test_predictions[:,1], n_bins = 10, normalize = True)\n",
        "# Plot calibration curve\n",
        "\n",
        "# Plot perfectly calibrated\n",
        "plt.plot([0, 1], [0, 1], linestyle = '--', label = 'Ideally Calibrated')\n",
        "\n",
        "# Plot model's calibration curve\n",
        "plt.plot(prob_pred, prob_true, marker = '.', label = 'Logistic Regression Classifier')\n",
        "\n",
        "leg = plt.legend(loc = 'upper left')\n",
        "plt.xlabel('Average Predicted Probability in each bin')\n",
        "plt.ylabel('Ratio of positives')\n",
        "plt.show()"
      ],
      "metadata": {
        "id": "1kI_ApcLJara"
      },
      "execution_count": null,
      "outputs": []
    },
    {
      "cell_type": "markdown",
      "source": [
        "# OPTIONAL Precision, Recall, F-measure and Support\n",
        "\n",
        "The **precision** is the ratio $TP/ (TP + FP)$. The precision is intuitively the ability of the classifier to not label a sample as positive if it is negative.\n",
        "\n",
        "The **recall** is the ratio $TP / (TP + FN)$. The recall is intuitively the ability of the classifier to find all the positive samples.\n",
        "\n",
        "The **F-beta** score can be interpreted as a weighted harmonic mean of the precision and recall, where an F-beta score reaches its best value at 1 and worst score at 0. The F-beta score weights the recall more than the precision by a factor of beta. beta = 1.0 means recall and precision are equally important.\n",
        "\n",
        "The **support** is the number of occurrences of each class in y_test."
      ],
      "metadata": {
        "id": "sn2fyb0araP7"
      }
    },
    {
      "cell_type": "code",
      "source": [
        "from sklearn.metrics import classification_report\n",
        "print(classification_report(y_test, y_test_bin_pred))"
      ],
      "metadata": {
        "id": "OiyH9c1IttfY"
      },
      "execution_count": null,
      "outputs": []
    }
  ]
}